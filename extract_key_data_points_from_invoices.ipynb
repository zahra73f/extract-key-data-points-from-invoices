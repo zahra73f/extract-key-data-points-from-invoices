{
  "nbformat": 4,
  "nbformat_minor": 0,
  "metadata": {
    "colab": {
      "provenance": [],
      "authorship_tag": "ABX9TyPYtcP4Z+oJMGAyR54Rfy0S",
      "include_colab_link": true
    },
    "kernelspec": {
      "name": "python3",
      "display_name": "Python 3"
    },
    "language_info": {
      "name": "python"
    }
  },
  "cells": [
    {
      "cell_type": "markdown",
      "metadata": {
        "id": "view-in-github",
        "colab_type": "text"
      },
      "source": [
        "<a href=\"https://colab.research.google.com/github/zahra73f/extract-key-data-points-from-invoices/blob/main/extract_key_data_points_from_invoices.ipynb\" target=\"_parent\"><img src=\"https://colab.research.google.com/assets/colab-badge.svg\" alt=\"Open In Colab\"/></a>"
      ]
    },
    {
      "cell_type": "markdown",
      "source": [
        "# Installation"
      ],
      "metadata": {
        "id": "S2EpvGk1QduG"
      }
    },
    {
      "cell_type": "code",
      "execution_count": null,
      "metadata": {
        "id": "rBA42GLmQQ3P"
      },
      "outputs": [],
      "source": []
    },
    {
      "cell_type": "markdown",
      "source": [
        "#Dataset Preparation"
      ],
      "metadata": {
        "id": "y4fcB9q5Qg7c"
      }
    },
    {
      "cell_type": "code",
      "source": [
        "\n",
        "{\n",
        "'id': '0',\n",
        "'ner_tags': [1,2,3,4,5,6,7,8,9,0,0,0,0,0,10,11,12,13,14,15,16,10,11,12,13,14,15,16,10,11,12,13,14,15,16,0,17,18,19,0]\n",
        "'tokens': ['Facture', 'Date', '20230513', 'Montant', 'de', 'la', 'facture', '100000', 'Taxes', '15000', 'Liste', 'des', 'produits', 'Description', 'Produit', 'A', 'Montant', '50000', 'Quantité', '2', 'Description', 'Produit', 'B', 'Montant', '25000', 'Quantité', '3', 'Description', 'Produit', 'C', 'Montant', '10000', 'Quantité', '1', 'Nom', 'de', 'l\\'entreprise', 'émétrice', 'ABC', 'Entreprise']\n",
        "}\n",
        "{\n",
        "'id': '1',\n",
        "'ner_tags': [1,2,3,4,5,6,7,8,9,0,0,0,0,0,10,11,12,13,14,15,16,10,11,12,13,14,15,16,10,11,12,13,14,15,16,0,17,18,19,0]\n",
        "'tokens': ['Facture', 'Date', '20230601', 'Montant', 'de', 'la', 'facture', '75000', 'Taxes', '11250', 'Liste', 'des', 'produits', 'Description', 'Produit', 'D', 'Montant', '37500', 'Quantité', '2', 'Description', 'Produit', 'E', 'Montant', '18750', 'Quantité', '3', 'Nom', 'de', 'l\\'entreprise', 'émétrice', 'XYZ', 'Inc.']\n",
        "}\n",
        "{\n",
        "'id': '2',\n",
        "'ner_tags': [1,2,3,4,5,6,7,8,9,0,0,0,0,0,10,11,12,13,14,15,16,10,11,12,13,14,15,16,10,11,12,13,14,15,16,0,17,18,19,0]\n",
        "'tokens': ['Facture', 'Date', '20230715', 'Montant', 'de', 'la', 'facture', '200000', 'Taxes', '30000', 'Liste', 'des', 'produits', 'Description', 'Produit', 'F', 'Montant', '100000', 'Quantité', '2', 'Description', 'Produit', 'G', 'Montant', '50000', 'Quantité', '3', 'Description', 'Produit', 'H', 'Montant', '20000', 'Quantité', '1', 'Nom', 'de', 'l\\'entreprise', 'émétrice', 'DEF', 'Corp.']\n",
        "}\n",
        "{\n",
        "'id': '3',\n",
        "'ner_tags':[1,2,3,4,5,6,7,8,9,0,0,0,0,0,10,11,12,13,14,15,16,10,11,12,13,14,15,16,10,11,12,13,14,15,16,0,17,18,19,0]\n",
        "'tokens':  ['فاکتور', 'تاریخ', '۲۰۲۳۰۵۱۳', 'مبلغ', 'فاکتور', '۱۰۰۰۰۰', 'مالیات', 'مبلغ', '۱۵۰۰۰', 'آرایه', 'محصولات', 'توضیحات', 'محصول', 'A', 'مبلغ', '۵۰۰۰۰', 'تعداد', '۲', 'توضیحات', 'محصول', 'B', 'مبلغ', '۲۵۰۰۰', 'تعداد', '۳', 'توضیحات', 'محصول', 'C', 'مبلغ', '۱۰۰۰۰', 'تعداد', '۱', 'نام', 'شرکت', 'صادرکننده', 'ABC', 'Company']\n",
        "}\n",
        "{\n",
        "'id': '4',\n",
        "'ner_tags': [1,2,3,4,5,6,7,8,9,0,0,0,0,0,10,11,12,13,14,15,16,10,11,12,13,14,15,16,10,11,12,13,14,15,16,0,17,18,19,0]\n",
        "'tokens': ['فاکتور', 'تاریخ', '۲۰۲۳۰۶۰۱', 'مبلغ', 'فاکتور', '۷۵۰۰۰', 'مالیات', 'مبلغ', '۱۱۲۵۰', 'آرایه', 'محصولات', 'توضیحات', 'محصول', 'D', 'مبلغ', '۳۷۵۰۰', 'تعداد', '۲', 'توضیحات', 'محصول', 'E', 'مبلغ', '۱۸۷۵۰', 'تعداد', '۳', 'نام', 'شرکت', 'صادرکننده', 'XYZ', 'Inc.']\n",
        "}\n",
        "{\n",
        "'id': '5',\n",
        "'ner_tags': [1,2,3,4,5,6,7,8,9,0,0,0,0,0,10,11,12,13,14,15,16,10,11,12,13,14,15,16,10,11,12,13,14,15,16,0,17,18,19,0]\n",
        "'tokens': ['فاکتور', 'تاریخ', '۲۰۲۳۰۷۱۵', 'مبلغ', 'فاکتور', '۲۰۰۰۰۰', 'مالیات', 'مبلغ', '۳۰۰۰۰', 'آرایه', 'محصولات', 'توضیحات', 'محصول', 'F', 'مبلغ', '۱۰۰۰۰۰', 'تعداد', '۲', 'توضیحات', 'محصول', 'G', 'مبلغ', '۵۰۰۰۰', 'تعداد', '۳', 'توضیحات', 'محصول', 'H', 'مبلغ', '۲۰۰۰۰', 'تعداد', '۱', 'نام', 'شرکت', 'صادرکننده', 'DEF', 'Corp.']\n",
        "}\n",
        "{\n",
        "'id': '6',\n",
        "'ner_tags':  [1,2,3,4,5,6,7,8,9,0,0,0,0,0,10,11,12,13,14,15,16,10,11,12,13,14,15,16,10,11,12,13,14,15,16,0,17,18,19,0]\n",
        "'tokens': ['Invoice', 'Date', '20230513', 'Invoice', 'Amount', '100000', 'Tax', 'Amount', '15000', 'Array', 'of', 'Invoice', 'Line', 'Items', 'Description', 'Product', 'A', 'Amount', '50000', 'Quantity', '2', 'Description', 'Product', 'B', 'Amount', '25000', 'Quantity', '3', 'Description', 'Product', 'C', 'Amount', '10000', 'Quantity', '1', 'Issuing', 'Company', 'Name', 'ABC', 'Company']\n",
        "}\n",
        "{\n",
        "'id': '7',\n",
        "'ner_tags': [1,2,3,4,5,6,7,8,9,0,0,0,0,0,10,11,12,13,14,15,16,10,11,12,13,14,15,16,10,11,12,13,14,15,16,0,17,18,19,0]\n",
        "'tokens': ['Facture', 'Date', '20230513', 'Montant', 'de', 'la', 'facture', '100000', 'Taxes', '15000', 'Liste', 'des', 'produits', 'Description', 'Produit', 'A', 'Montant', '50000', 'Quantité', '2', 'Description', 'Produit', 'B', 'Montant', '25000', 'Quantité', '3', 'Description', 'Produit', 'C', 'Montant', '10000', 'Quantité', '1', 'Nom', 'de', 'l\\'entreprise', 'émétrice', 'ABC', 'Entreprise']\n",
        "}\n",
        "{\n",
        "'id': '8',\n",
        "'ner_tags':[1,2,3,4,5,6,7,8,9,0,0,0,0,0,10,11,12,13,14,15,16,10,11,12,13,14,15,16,10,11,12,13,14,15,16,0,17,18,19,0]\n",
        "'tokens': ['فاکتور', 'تاریخ', '۲۰۲۳۰۵۱۳', 'مبلغ', 'فاکتور', '۱۰۰۰۰۰', 'مالیات', 'مبلغ', '۱۵۰۰۰', 'آرایه', 'محصولات', 'توضیحات', 'محصول', 'A', 'مبلغ', '۵۰۰۰۰', 'تعداد', '۲', 'توضیحات', 'محصول', 'B', 'مبلغ', '۲۵۰۰۰', 'تعداد', '۳', 'توضیحات', 'محصول', 'C', 'مبلغ', '۱۰۰۰۰', 'تعداد', '۱', 'نام', 'شرکت', 'صادرکننده', 'ABC', 'Company']\n",
        "}\n",
        "{\n",
        "'id': '9',\n",
        "'ner_tags': [1,2,3,4,5,6,7,8,9,0,0,0,0,0,10,11,12,13,14,15,16,10,11,12,13,14,15,16,10,11,12,13,14,15,16,0,17,18,19,0]\n",
        "'tokens': ['Rechnung', 'Datum', '20230513', 'Rechnungsbetrag', '100000', 'Steuer', 'Betrag', '15000', 'Array', 'von', 'Rechnungspositionen', 'Beschreibung', 'Produkt', 'A', 'Betrag', '50000', 'Menge', '2', 'Beschreibung', 'Produkt', 'B', 'Betrag', '25000', 'Menge', '3', 'Beschreibung', 'Produkt', 'C', 'Betrag', '10000', 'Menge', '1', 'Ausstellendes', 'Unternehmen', 'Name', 'ABC', 'Company']\n",
        "}\n",
        "{\n",
        "'id': '10',\n",
        "'ner_tags': [1,2,3,4,5,6,7,8,9,0,0,0,0,0,10,11,12,13,14,15,16,10,11,12,13,14,15,16,10,11,12,13,14,15,16,0,17,18,19,0]\n",
        "'tokens': ['Faktura', 'Data', '20230513', 'Kwota', 'faktury', '100000', 'Podatek', 'Kwota', '15000', 'Tablica', 'pozycji', 'faktury', 'Opis', 'Produkt', 'A', 'Kwota', '50000', 'Ilość', '2', 'Opis', 'Produkt', 'B', 'Kwota', '25000', 'Ilość', '3', 'Opis', 'Produkt', 'C', 'Kwota', '10000', 'Ilość', '1', 'Nazwa', 'firmy', 'wystawiającej', 'ABC', 'Company']\n",
        "}\n",
        "{\n",
        "'id': '11',\n",
        "'ner_tags': [1,2,3,4,5,6,7,8,9,0,0,0,0,0,10,11,12,13,14,15,16,10,11,12,13,14,15,16,10,11,12,13,14,15,16,0,17,18,19,0]\n",
        "'tokens': ['Fatura', 'Tarih', '20230513', 'Fatura', 'Tutarı', '100000', 'Vergi', 'Tutarı', '15000', 'Fatura', 'Satırları', 'Dizisi', 'Ürün', 'Açıklaması', 'Ürün', 'A', 'Tutar', '50000', 'Adet', '2', 'Ürün', 'Açıklaması', 'Ürün', 'B', 'Tutar', '25000', 'Adet', '3', 'Ürün', 'Açıklaması', 'Ürün', 'C', 'Tutar', '10000', 'Adet', '1', 'Fatura', 'Düzenleyen', 'Şirket', 'Adı', 'ABC', 'Company']\n",
        "}\n",
        "{\n",
        "'id': '12',\n",
        "'ner_tags':[1,2,3,4,5,6,7,8,9,0,0,0,0,0,10,11,12,13,14,15,16,10,11,12,13,14,15,16,10,11,12,13,14,15,16,0,17,18,19,0]\n",
        "'tokens': ['Factura', 'Fecha', '20230513', 'Importe', 'Factura', '100000', 'Impuesto', 'Importe', '15000', 'Array', 'de', 'productos', 'Descripción', 'Producto', 'A', 'Importe', '50000', 'Cantidad', '2', 'Descripción', 'Producto', 'B', 'Importe', '25000', 'Cantidad', '3', 'Descripción', 'Producto', 'C', 'Importe', '10000', 'Cantidad', '1', 'Nombre', 'de', 'la', 'compañía', 'emisora', 'ABC', 'Company']\n",
        "}\n",
        "{\n",
        "'id': '13',\n",
        "'ner_tags': [1,2,3,4,5,6,7,8,9,0,0,0,0,0,10,11,12,13,14,15,16,10,11,12,13,14,15,16,10,11,12,13,14,15,16,0,17,18,19,0]\n",
        "'tokens': ['Facture', 'Date', '20230513', 'Montant', 'de', 'la', 'facture', '100000', 'Taxes', '15000', 'Liste', 'des', 'produits', 'Description', 'Produit', 'A', 'Montant', '50000', 'Quantité', '2', 'Description', 'Produit', 'B', 'Montant', '25000', 'Quantité', '3', 'Description', 'Produit', 'C', 'Montant', '10000', 'Quantité', '1', 'Nom', 'de', 'l\\'entreprise', 'émétrice', 'ABC', 'Entreprise']\n",
        "}\n",
        "{\n",
        "'id': '14',\n",
        "'ner_tags': [1,2,3,4,5,6,7,8,9,0,0,0,0,0,10,11,12,13,14,15,16,10,11,12,13,14,15,16,0,17,18,19,0]\n",
        "'tokens': ['Facture', 'Date', '20230513', 'Montant', 'de', 'la', 'facture', '50000', 'Taxes', '7500', 'Liste', 'des', 'produits', 'Description', 'Produit', 'D', 'Montant', '15000', 'Quantité', '1', 'Description', 'Produit', 'E', 'Montant', '20000', 'Quantité', '2', 'Description', 'Produit', 'F', 'Montant', '5000', 'Quantité', '3', 'Nom', 'de', 'l\\'entreprise', 'émétrice', 'XYZ', 'Corporation']\n",
        "}\n",
        "{\n",
        "'id': '15',\n",
        "'ner_tags': [1,2,3,4,5,6,7,8,9,0,0,0,0,0,10,11,12,13,14,15,16,10,11,12,13,14,15,16,10,11,12,13,14,15,16,0,17,18,19,0]\n",
        "'tokens': ['Factura', 'Fecha', '20230513', 'Monto', 'de', 'factura', '100000', 'Impuesto', 'Monto', '15000', 'Lista', 'de', 'productos', 'Descripción', 'Producto', 'A', 'Monto', '50000', 'Cantidad', '2', 'Descripción', 'Producto', 'B', 'Monto', '25000', 'Cantidad', '3', 'Descripción', 'Producto', 'C', 'Monto', '10000', 'Cantidad', '1', 'Nombre', 'de', 'la', 'empresa', 'emisora', 'ABC', 'Empresa']\n",
        "}\n",
        "{\n",
        "'id': '16',\n",
        "'ner_tags': [1,2,3,4,5,6,7,8,9,0,0,0,0,0,10,11,12,13,14,15,16,10,11,12,13,14,15,16,0,17,18,19,0]\n",
        "'tokens': ['Factura', 'Fecha', '20230513', 'Monto', 'de', 'factura', '50000', 'Impuesto', 'Monto', '7500', 'Lista', 'de', 'productos', 'Descripción', 'Producto', 'D', 'Monto', '15000', 'Cantidad', '1', 'Descripción', 'Producto', 'E', 'Monto', '20000', 'Cantidad', '2', 'Descripción', 'Producto', 'F', 'Monto', '5000', 'Cantidad', '3', 'Nombre', 'de', 'la', 'empresa', 'emisora', 'XYZ', 'Corporación']\n",
        "}\n",
        "{\n",
        "'id': '17',\n",
        "'ner_tags': [1,2,3,4,5,6,7,8,9,0,0,0,0,0,10,11,12,13,14,15,16,10,11,12,13,14,15,16,10,11,12,13,14,15,16,0,17,18,19,0]\n",
        "'tokens': ['Rechnung', 'Datum', '20230513', 'Rechnungsbetrag', '100000', 'Steuer', 'Betrag', '15000', 'Liste', 'der', 'Artikel', 'Beschreibung', 'Produkt', 'A', 'Betrag', '50000', 'Anzahl', '2', 'Beschreibung', 'Produkt', 'B', 'Betrag', '25000', 'Anzahl', '3', 'Beschreibung', 'Produkt', 'C', 'Betrag', '10000', 'Anzahl', '1', 'Name', 'des', 'ausstellenden', 'Unternehmens', 'ABC', 'Unternehmen']\n",
        "}\n",
        "{\n",
        "'id': '18',\n",
        "'ner_tags': [1,2,3,4,5,6,7,8,9,0,0,0,0,0,10,11,12,13,14,15,16,10,11,12,13,14,15,16,0,17,18,19,0]\n",
        "'tokens': ['Rechnung', 'Datum', '20230513', 'Rechnungsbetrag', '50000', 'Steuer', 'Betrag', '7500', 'Liste', 'der', 'Artikel', 'Beschreibung', 'Produkt', 'D', 'Betrag', '15000', 'Anzahl', '1', 'Beschreibung', 'Produkt', 'E', 'Betrag', '20000', 'Anzahl', '2', 'Beschreibung', 'Produkt', 'F', 'Betrag', '5000', 'Anzahl', '3', 'Name', 'des', 'ausstellenden', 'Unternehmens', 'XYZ', 'GmbH']\n",
        "}\n",
        "{\n",
        "'id': '19',\n",
        "'ner_tags': [0,17,18,19,0,1,2,3,4,5,6,7,8,9,0,0,0,0,0,10,11,12,13,14,15,16,10,11,12,13,14,15,16,10,11,12,13,14,15,16,10,11,12,13,14,15,16]\n",
        "'tokens': ['発行', '会社', '名', 'ABC', '社', '請求書', '日付', '20230513', '請求書', '金額', '100000', '税金', '金額', '15000', '請求書', '明細', '商品', '説明', '商品', 'A', '金額', '50000', '数量', '2', '商品', '説明', '商品', 'B', '金額', '25000', '数量', '3', '商品', '説明', '商品', 'C', '金額', '10000', '数量', '1', '商品', '説明', '商品', 'D', '金額', '10000', '数量', '8']\n",
        "}\n",
        "{\n",
        "'id': '20',\n",
        "'ner_tags': [0,17,18,19,0,1,2,3,4,5,6,7,8,9,0,0,0,0,0,10,11,12,13,14,15,16,10,11,12,13,14,15,16,10,11,12,13,14,15,16,10,11,12,13,14,15,16]\n",
        "'tokens': ['発行', '会社', '名', 'XYZ', '株式会社', '請求書', '日付', '20230513', '請求書', '金額', '50000', '税金', '金額', '7500', '請求書', '明細', '商品', '説明', '商品', 'E', '金額', '15000', '数量', '1', '商品', '説明', '商品', 'F', '金額', '20000', '数量', '2', '商品', '説明', '商品', 'G', '金額', '5000', '数量', '3', '商品', '説明', '商品', 'H', '金額', '15000', '数量', '5']\n",
        "}\n",
        "{\n",
        "'id': '21',\n",
        "'ner_tags': [0,17,18,19,0,1,2,3,4,5,6,7,8,9,0,0,0,0,0,10,11,12,13,14,15,16,10,11,12,13,14,15,16,10,11,12,13,14,15,16,10,11,12,13,14,15,16]\n",
        "'tokens': ['Выписывающая', 'компания', 'название', 'ABC', 'компания','Номер', 'счета', 'Дата', '20230513', 'Сумма', 'счета', '100000', 'Налог', 'сумма', '15000', 'Список', 'товаров', 'Описание', 'Товар', 'A', 'Сумма', '50000', 'Количество', '2', 'Описание', 'Товар', 'B', 'Сумма', '25000', 'Количество', '3', 'Описание', 'Товар', 'C', 'Сумма', '10000', 'Количество', '1', 'Описание', 'Товар', 'D', 'Сумма', '10000', 'Количество', '8']\n",
        "}\n",
        "{\n",
        "'id': '22',\n",
        "'ner_tags': [0,17,18,19,0,1,2,3,4,5,6,7,8,9,0,0,0,0,0,10,11,12,13,14,15,16,10,11,12,13,14,15,16,10,11,12,13,14,15,16,10,11,12,13,14,15,16]\n",
        "'tokens': ['Выписывающая', 'компания', 'название', 'XYZ', 'компания','Номер', 'счета', 'Дата', '20230513', 'Сумма', 'счета', '50000', 'Налог', 'сумма', '7500', 'Список', 'товаров', 'Описание', 'Товар', 'E', 'Сумма', '15000', 'Количество', '1', 'Описание', 'Товар', 'F', 'Сумма', '20000', 'Количество', '2', 'Описание', 'Товар', 'G', 'Сумма', '5000', 'Количество', '3', 'Описание', 'Товар', 'H', 'Сумма', '15000', 'Количество', '5']\n",
        "}\n",
        "French:\n",
        "label_fr1 = [0,17,18,19,0,1,2,3,4,5,6,7,8,9,0,0,0,0,0,10,11,12,13,14,15,16,10,11,12,13,14,15,16,10,11,12,13,14,15,16,10,11,12,13,14,15,16]\n",
        "token_fr1 = ['Société', 'émétrice', 'nom', 'ABC', 'Société','Numéro', 'de', 'facture', 'Date', '20230513', 'Montant', 'de', 'facture', '100000', 'Montant', 'de', 'taxe', '15000', 'Liste', 'des', 'articles', 'Description', 'Produit', 'A', 'Montant', '50000', 'Quantité', '2', 'Description', 'Produit', 'B', 'Montant', '25000', 'Quantité', '3', 'Description', 'Produit', 'C', 'Montant', '10000', 'Quantité', '1', 'Description', 'Produit', 'D', 'Montant', '10000', 'Quantité', '8']\n",
        "\n",
        "label_fr2 = [0,17,18,19,0,1,2,3,4,5,6,7,8,9,0,0,0,0,0,10,11,12,13,14,15,16,10,11,12,13,14,15,16,10,11,12,13,14,15,16,10,11,12,13,14,15,16]\n",
        "token_fr2 = ['Société', 'émétrice', 'nom', 'XYZ', 'Société','Numéro', 'de', 'facture', 'Date', '20230513', 'Montant', 'de', 'facture', '50000', 'Montant', 'de', 'taxe', '7500', 'Liste', 'des', 'articles', 'Description', 'Produit', 'E', 'Montant', '15000', 'Quantité', '1', 'Description', 'Produit', 'F', 'Montant', '20000', 'Quantité', '2', 'Description', 'Produit', 'G', 'Montant', '5000', 'Quantité', '3', 'Description', 'Produit', 'H', 'Montant', '15000', 'Quantité', '5']\n",
        "\n",
        "Spanish:\n",
        "label_es1 = [0,17,18,19,0,1,2,3,4,5,6,7,8,9,0,0,0,0,0,10,11,12,13,14,15,16,10,11,12,13,14,15,16,10,11,12,13,14,15,16,10,11,12,13,14,15,16]\n",
        "token_es1 = ['Compañía', 'emisora', 'nombre', 'ABC', 'Compañía','Número', 'de', 'factura', 'Fecha', '20230513', 'Cantidad', 'de', 'factura', '100000', 'Cantidad', 'de', 'impuesto', '15000', 'Lista', 'de', 'artículos', 'Descripción', 'Producto', 'A', 'Cantidad', '50000', 'Cantidad', '2', 'Descripción', 'Producto', 'B', 'Cantidad', '25000', 'Cantidad', '3', 'Descripción', 'Producto', 'C', 'Cantidad', '10000', 'Cantidad', '1', 'Descripción', 'Producto', 'D', 'Cantidad', '100']\n",
        "English:\n",
        "label_en1 = [0,17,18,19,0,1,2,3,4,5,6,7,8,9,0,0,0,0,0,10,11,12,13,14,15,16,10,11,12,13,14,15,16,10,11,12,13,14,15,16,10,11,12,13,14,15,16]\n",
        "token_en1 = ['Issuing', 'Company', 'Name', 'ABC', 'Company','Invoice', 'Date', '20230513', 'Invoice', 'Amount', '100000', 'Tax', 'Amount', '15000', 'Array', 'of', 'Invoice', 'Line', 'Items', 'Description', 'Product', 'A', 'Amount', '50000', 'Quantity', '2', 'Description', 'Product', 'B', 'Amount', '25000', 'Quantity', '3', 'Description', 'Product', 'C', 'Amount', '10000', 'Quantity', '1', 'Description', 'Product', 'D', 'Amount', '10000', 'Quantity', '8']\n",
        "\n",
        "label_en2 = [0,17,18,19,0,1,2,3,4,5,6,7,8,9,0,0,0,0,0,10,11,12,13,14,15,16,10,11,12,13,14,15,16,10,11,12,13,14,15,16,10,11,12,13,14,15,16]\n",
        "token_en2 = ['Issuing', 'Company', 'Name', 'XYZ', 'Company','Invoice', 'Date', '20230513', 'Invoice', 'Amount', '50000', 'Tax', 'Amount', '7500', 'Array', 'of', 'Invoice', 'Line', 'Items', 'Description', 'Product', 'E', 'Amount', '15000', 'Quantity', '1', 'Description', 'Product', 'F', 'Amount', '20000', 'Quantity', '2', 'Description', 'Product', 'G', 'Amount', '5000', 'Quantity', '3', 'Description', 'Product', 'H', 'Amount', '15000', 'Quantity', '5']\n",
        "\n",
        "\n",
        "\n"
      ],
      "metadata": {
        "id": "JLyflfRUQggf"
      },
      "execution_count": null,
      "outputs": []
    }
  ]
}