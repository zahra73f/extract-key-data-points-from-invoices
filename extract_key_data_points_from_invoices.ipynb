{
  "nbformat": 4,
  "nbformat_minor": 0,
  "metadata": {
    "colab": {
      "provenance": [],
      "collapsed_sections": [
        "S2EpvGk1QduG"
      ],
      "authorship_tag": "ABX9TyPW3clXEVtbh9I+cQBlQ8gY",
      "include_colab_link": true
    },
    "kernelspec": {
      "name": "python3",
      "display_name": "Python 3"
    },
    "language_info": {
      "name": "python"
    },
    "widgets": {
      "application/vnd.jupyter.widget-state+json": {
        "a4e2d2d7469e4ba0bad10acb4cae1962": {
          "model_module": "@jupyter-widgets/controls",
          "model_name": "HBoxModel",
          "model_module_version": "1.5.0",
          "state": {
            "_dom_classes": [],
            "_model_module": "@jupyter-widgets/controls",
            "_model_module_version": "1.5.0",
            "_model_name": "HBoxModel",
            "_view_count": null,
            "_view_module": "@jupyter-widgets/controls",
            "_view_module_version": "1.5.0",
            "_view_name": "HBoxView",
            "box_style": "",
            "children": [
              "IPY_MODEL_22c55cc23642431da761f4552d509a8c",
              "IPY_MODEL_707b22c8e9da4636b768987679b9c5e0",
              "IPY_MODEL_f3b215b8e7604e8dafed797071e23d0d"
            ],
            "layout": "IPY_MODEL_a66520d6ac1d47af9a6b7c82c55fb267"
          }
        },
        "22c55cc23642431da761f4552d509a8c": {
          "model_module": "@jupyter-widgets/controls",
          "model_name": "HTMLModel",
          "model_module_version": "1.5.0",
          "state": {
            "_dom_classes": [],
            "_model_module": "@jupyter-widgets/controls",
            "_model_module_version": "1.5.0",
            "_model_name": "HTMLModel",
            "_view_count": null,
            "_view_module": "@jupyter-widgets/controls",
            "_view_module_version": "1.5.0",
            "_view_name": "HTMLView",
            "description": "",
            "description_tooltip": null,
            "layout": "IPY_MODEL_01a90560b1754e2cb4d5b6c15014d1d4",
            "placeholder": "​",
            "style": "IPY_MODEL_5b35471f5a244276bf0f1c640f459997",
            "value": "Map: 100%"
          }
        },
        "707b22c8e9da4636b768987679b9c5e0": {
          "model_module": "@jupyter-widgets/controls",
          "model_name": "FloatProgressModel",
          "model_module_version": "1.5.0",
          "state": {
            "_dom_classes": [],
            "_model_module": "@jupyter-widgets/controls",
            "_model_module_version": "1.5.0",
            "_model_name": "FloatProgressModel",
            "_view_count": null,
            "_view_module": "@jupyter-widgets/controls",
            "_view_module_version": "1.5.0",
            "_view_name": "ProgressView",
            "bar_style": "",
            "description": "",
            "description_tooltip": null,
            "layout": "IPY_MODEL_9dff68a4b64946e6a8e44e103c88cf1f",
            "max": 27,
            "min": 0,
            "orientation": "horizontal",
            "style": "IPY_MODEL_b987ab2ad5414c8bb099a0df8244c9fd",
            "value": 27
          }
        },
        "f3b215b8e7604e8dafed797071e23d0d": {
          "model_module": "@jupyter-widgets/controls",
          "model_name": "HTMLModel",
          "model_module_version": "1.5.0",
          "state": {
            "_dom_classes": [],
            "_model_module": "@jupyter-widgets/controls",
            "_model_module_version": "1.5.0",
            "_model_name": "HTMLModel",
            "_view_count": null,
            "_view_module": "@jupyter-widgets/controls",
            "_view_module_version": "1.5.0",
            "_view_name": "HTMLView",
            "description": "",
            "description_tooltip": null,
            "layout": "IPY_MODEL_eac3c0bc07cf4944ab5965f308210c5c",
            "placeholder": "​",
            "style": "IPY_MODEL_217d1a57f66c4f2085e1e8638a7ad96f",
            "value": " 27/27 [00:00&lt;00:00, 126.45 examples/s]"
          }
        },
        "a66520d6ac1d47af9a6b7c82c55fb267": {
          "model_module": "@jupyter-widgets/base",
          "model_name": "LayoutModel",
          "model_module_version": "1.2.0",
          "state": {
            "_model_module": "@jupyter-widgets/base",
            "_model_module_version": "1.2.0",
            "_model_name": "LayoutModel",
            "_view_count": null,
            "_view_module": "@jupyter-widgets/base",
            "_view_module_version": "1.2.0",
            "_view_name": "LayoutView",
            "align_content": null,
            "align_items": null,
            "align_self": null,
            "border": null,
            "bottom": null,
            "display": null,
            "flex": null,
            "flex_flow": null,
            "grid_area": null,
            "grid_auto_columns": null,
            "grid_auto_flow": null,
            "grid_auto_rows": null,
            "grid_column": null,
            "grid_gap": null,
            "grid_row": null,
            "grid_template_areas": null,
            "grid_template_columns": null,
            "grid_template_rows": null,
            "height": null,
            "justify_content": null,
            "justify_items": null,
            "left": null,
            "margin": null,
            "max_height": null,
            "max_width": null,
            "min_height": null,
            "min_width": null,
            "object_fit": null,
            "object_position": null,
            "order": null,
            "overflow": null,
            "overflow_x": null,
            "overflow_y": null,
            "padding": null,
            "right": null,
            "top": null,
            "visibility": "hidden",
            "width": null
          }
        },
        "01a90560b1754e2cb4d5b6c15014d1d4": {
          "model_module": "@jupyter-widgets/base",
          "model_name": "LayoutModel",
          "model_module_version": "1.2.0",
          "state": {
            "_model_module": "@jupyter-widgets/base",
            "_model_module_version": "1.2.0",
            "_model_name": "LayoutModel",
            "_view_count": null,
            "_view_module": "@jupyter-widgets/base",
            "_view_module_version": "1.2.0",
            "_view_name": "LayoutView",
            "align_content": null,
            "align_items": null,
            "align_self": null,
            "border": null,
            "bottom": null,
            "display": null,
            "flex": null,
            "flex_flow": null,
            "grid_area": null,
            "grid_auto_columns": null,
            "grid_auto_flow": null,
            "grid_auto_rows": null,
            "grid_column": null,
            "grid_gap": null,
            "grid_row": null,
            "grid_template_areas": null,
            "grid_template_columns": null,
            "grid_template_rows": null,
            "height": null,
            "justify_content": null,
            "justify_items": null,
            "left": null,
            "margin": null,
            "max_height": null,
            "max_width": null,
            "min_height": null,
            "min_width": null,
            "object_fit": null,
            "object_position": null,
            "order": null,
            "overflow": null,
            "overflow_x": null,
            "overflow_y": null,
            "padding": null,
            "right": null,
            "top": null,
            "visibility": null,
            "width": null
          }
        },
        "5b35471f5a244276bf0f1c640f459997": {
          "model_module": "@jupyter-widgets/controls",
          "model_name": "DescriptionStyleModel",
          "model_module_version": "1.5.0",
          "state": {
            "_model_module": "@jupyter-widgets/controls",
            "_model_module_version": "1.5.0",
            "_model_name": "DescriptionStyleModel",
            "_view_count": null,
            "_view_module": "@jupyter-widgets/base",
            "_view_module_version": "1.2.0",
            "_view_name": "StyleView",
            "description_width": ""
          }
        },
        "9dff68a4b64946e6a8e44e103c88cf1f": {
          "model_module": "@jupyter-widgets/base",
          "model_name": "LayoutModel",
          "model_module_version": "1.2.0",
          "state": {
            "_model_module": "@jupyter-widgets/base",
            "_model_module_version": "1.2.0",
            "_model_name": "LayoutModel",
            "_view_count": null,
            "_view_module": "@jupyter-widgets/base",
            "_view_module_version": "1.2.0",
            "_view_name": "LayoutView",
            "align_content": null,
            "align_items": null,
            "align_self": null,
            "border": null,
            "bottom": null,
            "display": null,
            "flex": null,
            "flex_flow": null,
            "grid_area": null,
            "grid_auto_columns": null,
            "grid_auto_flow": null,
            "grid_auto_rows": null,
            "grid_column": null,
            "grid_gap": null,
            "grid_row": null,
            "grid_template_areas": null,
            "grid_template_columns": null,
            "grid_template_rows": null,
            "height": null,
            "justify_content": null,
            "justify_items": null,
            "left": null,
            "margin": null,
            "max_height": null,
            "max_width": null,
            "min_height": null,
            "min_width": null,
            "object_fit": null,
            "object_position": null,
            "order": null,
            "overflow": null,
            "overflow_x": null,
            "overflow_y": null,
            "padding": null,
            "right": null,
            "top": null,
            "visibility": null,
            "width": null
          }
        },
        "b987ab2ad5414c8bb099a0df8244c9fd": {
          "model_module": "@jupyter-widgets/controls",
          "model_name": "ProgressStyleModel",
          "model_module_version": "1.5.0",
          "state": {
            "_model_module": "@jupyter-widgets/controls",
            "_model_module_version": "1.5.0",
            "_model_name": "ProgressStyleModel",
            "_view_count": null,
            "_view_module": "@jupyter-widgets/base",
            "_view_module_version": "1.2.0",
            "_view_name": "StyleView",
            "bar_color": null,
            "description_width": ""
          }
        },
        "eac3c0bc07cf4944ab5965f308210c5c": {
          "model_module": "@jupyter-widgets/base",
          "model_name": "LayoutModel",
          "model_module_version": "1.2.0",
          "state": {
            "_model_module": "@jupyter-widgets/base",
            "_model_module_version": "1.2.0",
            "_model_name": "LayoutModel",
            "_view_count": null,
            "_view_module": "@jupyter-widgets/base",
            "_view_module_version": "1.2.0",
            "_view_name": "LayoutView",
            "align_content": null,
            "align_items": null,
            "align_self": null,
            "border": null,
            "bottom": null,
            "display": null,
            "flex": null,
            "flex_flow": null,
            "grid_area": null,
            "grid_auto_columns": null,
            "grid_auto_flow": null,
            "grid_auto_rows": null,
            "grid_column": null,
            "grid_gap": null,
            "grid_row": null,
            "grid_template_areas": null,
            "grid_template_columns": null,
            "grid_template_rows": null,
            "height": null,
            "justify_content": null,
            "justify_items": null,
            "left": null,
            "margin": null,
            "max_height": null,
            "max_width": null,
            "min_height": null,
            "min_width": null,
            "object_fit": null,
            "object_position": null,
            "order": null,
            "overflow": null,
            "overflow_x": null,
            "overflow_y": null,
            "padding": null,
            "right": null,
            "top": null,
            "visibility": null,
            "width": null
          }
        },
        "217d1a57f66c4f2085e1e8638a7ad96f": {
          "model_module": "@jupyter-widgets/controls",
          "model_name": "DescriptionStyleModel",
          "model_module_version": "1.5.0",
          "state": {
            "_model_module": "@jupyter-widgets/controls",
            "_model_module_version": "1.5.0",
            "_model_name": "DescriptionStyleModel",
            "_view_count": null,
            "_view_module": "@jupyter-widgets/base",
            "_view_module_version": "1.2.0",
            "_view_name": "StyleView",
            "description_width": ""
          }
        },
        "92389c068839464e9a23d6c49dce5f3d": {
          "model_module": "@jupyter-widgets/controls",
          "model_name": "HBoxModel",
          "model_module_version": "1.5.0",
          "state": {
            "_dom_classes": [],
            "_model_module": "@jupyter-widgets/controls",
            "_model_module_version": "1.5.0",
            "_model_name": "HBoxModel",
            "_view_count": null,
            "_view_module": "@jupyter-widgets/controls",
            "_view_module_version": "1.5.0",
            "_view_name": "HBoxView",
            "box_style": "",
            "children": [
              "IPY_MODEL_0df4e9274edc4df4ad5d247cd55baa78",
              "IPY_MODEL_70bd4e8d859d4a2aa09b0460ec522e93",
              "IPY_MODEL_0c01fba7d73b4c8d9a3102c71ef810fa"
            ],
            "layout": "IPY_MODEL_47d1041ad9774f2bba7c22dbfb34c451"
          }
        },
        "0df4e9274edc4df4ad5d247cd55baa78": {
          "model_module": "@jupyter-widgets/controls",
          "model_name": "HTMLModel",
          "model_module_version": "1.5.0",
          "state": {
            "_dom_classes": [],
            "_model_module": "@jupyter-widgets/controls",
            "_model_module_version": "1.5.0",
            "_model_name": "HTMLModel",
            "_view_count": null,
            "_view_module": "@jupyter-widgets/controls",
            "_view_module_version": "1.5.0",
            "_view_name": "HTMLView",
            "description": "",
            "description_tooltip": null,
            "layout": "IPY_MODEL_ce8a4908a26e4ef38d965d2abdd4bcab",
            "placeholder": "​",
            "style": "IPY_MODEL_1234bb8a0eb7422e8fb475982241c56d",
            "value": "Downloading builder script: 100%"
          }
        },
        "70bd4e8d859d4a2aa09b0460ec522e93": {
          "model_module": "@jupyter-widgets/controls",
          "model_name": "FloatProgressModel",
          "model_module_version": "1.5.0",
          "state": {
            "_dom_classes": [],
            "_model_module": "@jupyter-widgets/controls",
            "_model_module_version": "1.5.0",
            "_model_name": "FloatProgressModel",
            "_view_count": null,
            "_view_module": "@jupyter-widgets/controls",
            "_view_module_version": "1.5.0",
            "_view_name": "ProgressView",
            "bar_style": "success",
            "description": "",
            "description_tooltip": null,
            "layout": "IPY_MODEL_4db2a37945fd4b4193e873afa32c7b43",
            "max": 6338,
            "min": 0,
            "orientation": "horizontal",
            "style": "IPY_MODEL_72c603beca324145ace23c040c61d185",
            "value": 6338
          }
        },
        "0c01fba7d73b4c8d9a3102c71ef810fa": {
          "model_module": "@jupyter-widgets/controls",
          "model_name": "HTMLModel",
          "model_module_version": "1.5.0",
          "state": {
            "_dom_classes": [],
            "_model_module": "@jupyter-widgets/controls",
            "_model_module_version": "1.5.0",
            "_model_name": "HTMLModel",
            "_view_count": null,
            "_view_module": "@jupyter-widgets/controls",
            "_view_module_version": "1.5.0",
            "_view_name": "HTMLView",
            "description": "",
            "description_tooltip": null,
            "layout": "IPY_MODEL_b3904d248f684be5a8fc4576d9b22bde",
            "placeholder": "​",
            "style": "IPY_MODEL_6f312345cd9e44ef87f238911c9ed197",
            "value": " 6.34k/6.34k [00:00&lt;00:00, 132kB/s]"
          }
        },
        "47d1041ad9774f2bba7c22dbfb34c451": {
          "model_module": "@jupyter-widgets/base",
          "model_name": "LayoutModel",
          "model_module_version": "1.2.0",
          "state": {
            "_model_module": "@jupyter-widgets/base",
            "_model_module_version": "1.2.0",
            "_model_name": "LayoutModel",
            "_view_count": null,
            "_view_module": "@jupyter-widgets/base",
            "_view_module_version": "1.2.0",
            "_view_name": "LayoutView",
            "align_content": null,
            "align_items": null,
            "align_self": null,
            "border": null,
            "bottom": null,
            "display": null,
            "flex": null,
            "flex_flow": null,
            "grid_area": null,
            "grid_auto_columns": null,
            "grid_auto_flow": null,
            "grid_auto_rows": null,
            "grid_column": null,
            "grid_gap": null,
            "grid_row": null,
            "grid_template_areas": null,
            "grid_template_columns": null,
            "grid_template_rows": null,
            "height": null,
            "justify_content": null,
            "justify_items": null,
            "left": null,
            "margin": null,
            "max_height": null,
            "max_width": null,
            "min_height": null,
            "min_width": null,
            "object_fit": null,
            "object_position": null,
            "order": null,
            "overflow": null,
            "overflow_x": null,
            "overflow_y": null,
            "padding": null,
            "right": null,
            "top": null,
            "visibility": null,
            "width": null
          }
        },
        "ce8a4908a26e4ef38d965d2abdd4bcab": {
          "model_module": "@jupyter-widgets/base",
          "model_name": "LayoutModel",
          "model_module_version": "1.2.0",
          "state": {
            "_model_module": "@jupyter-widgets/base",
            "_model_module_version": "1.2.0",
            "_model_name": "LayoutModel",
            "_view_count": null,
            "_view_module": "@jupyter-widgets/base",
            "_view_module_version": "1.2.0",
            "_view_name": "LayoutView",
            "align_content": null,
            "align_items": null,
            "align_self": null,
            "border": null,
            "bottom": null,
            "display": null,
            "flex": null,
            "flex_flow": null,
            "grid_area": null,
            "grid_auto_columns": null,
            "grid_auto_flow": null,
            "grid_auto_rows": null,
            "grid_column": null,
            "grid_gap": null,
            "grid_row": null,
            "grid_template_areas": null,
            "grid_template_columns": null,
            "grid_template_rows": null,
            "height": null,
            "justify_content": null,
            "justify_items": null,
            "left": null,
            "margin": null,
            "max_height": null,
            "max_width": null,
            "min_height": null,
            "min_width": null,
            "object_fit": null,
            "object_position": null,
            "order": null,
            "overflow": null,
            "overflow_x": null,
            "overflow_y": null,
            "padding": null,
            "right": null,
            "top": null,
            "visibility": null,
            "width": null
          }
        },
        "1234bb8a0eb7422e8fb475982241c56d": {
          "model_module": "@jupyter-widgets/controls",
          "model_name": "DescriptionStyleModel",
          "model_module_version": "1.5.0",
          "state": {
            "_model_module": "@jupyter-widgets/controls",
            "_model_module_version": "1.5.0",
            "_model_name": "DescriptionStyleModel",
            "_view_count": null,
            "_view_module": "@jupyter-widgets/base",
            "_view_module_version": "1.2.0",
            "_view_name": "StyleView",
            "description_width": ""
          }
        },
        "4db2a37945fd4b4193e873afa32c7b43": {
          "model_module": "@jupyter-widgets/base",
          "model_name": "LayoutModel",
          "model_module_version": "1.2.0",
          "state": {
            "_model_module": "@jupyter-widgets/base",
            "_model_module_version": "1.2.0",
            "_model_name": "LayoutModel",
            "_view_count": null,
            "_view_module": "@jupyter-widgets/base",
            "_view_module_version": "1.2.0",
            "_view_name": "LayoutView",
            "align_content": null,
            "align_items": null,
            "align_self": null,
            "border": null,
            "bottom": null,
            "display": null,
            "flex": null,
            "flex_flow": null,
            "grid_area": null,
            "grid_auto_columns": null,
            "grid_auto_flow": null,
            "grid_auto_rows": null,
            "grid_column": null,
            "grid_gap": null,
            "grid_row": null,
            "grid_template_areas": null,
            "grid_template_columns": null,
            "grid_template_rows": null,
            "height": null,
            "justify_content": null,
            "justify_items": null,
            "left": null,
            "margin": null,
            "max_height": null,
            "max_width": null,
            "min_height": null,
            "min_width": null,
            "object_fit": null,
            "object_position": null,
            "order": null,
            "overflow": null,
            "overflow_x": null,
            "overflow_y": null,
            "padding": null,
            "right": null,
            "top": null,
            "visibility": null,
            "width": null
          }
        },
        "72c603beca324145ace23c040c61d185": {
          "model_module": "@jupyter-widgets/controls",
          "model_name": "ProgressStyleModel",
          "model_module_version": "1.5.0",
          "state": {
            "_model_module": "@jupyter-widgets/controls",
            "_model_module_version": "1.5.0",
            "_model_name": "ProgressStyleModel",
            "_view_count": null,
            "_view_module": "@jupyter-widgets/base",
            "_view_module_version": "1.2.0",
            "_view_name": "StyleView",
            "bar_color": null,
            "description_width": ""
          }
        },
        "b3904d248f684be5a8fc4576d9b22bde": {
          "model_module": "@jupyter-widgets/base",
          "model_name": "LayoutModel",
          "model_module_version": "1.2.0",
          "state": {
            "_model_module": "@jupyter-widgets/base",
            "_model_module_version": "1.2.0",
            "_model_name": "LayoutModel",
            "_view_count": null,
            "_view_module": "@jupyter-widgets/base",
            "_view_module_version": "1.2.0",
            "_view_name": "LayoutView",
            "align_content": null,
            "align_items": null,
            "align_self": null,
            "border": null,
            "bottom": null,
            "display": null,
            "flex": null,
            "flex_flow": null,
            "grid_area": null,
            "grid_auto_columns": null,
            "grid_auto_flow": null,
            "grid_auto_rows": null,
            "grid_column": null,
            "grid_gap": null,
            "grid_row": null,
            "grid_template_areas": null,
            "grid_template_columns": null,
            "grid_template_rows": null,
            "height": null,
            "justify_content": null,
            "justify_items": null,
            "left": null,
            "margin": null,
            "max_height": null,
            "max_width": null,
            "min_height": null,
            "min_width": null,
            "object_fit": null,
            "object_position": null,
            "order": null,
            "overflow": null,
            "overflow_x": null,
            "overflow_y": null,
            "padding": null,
            "right": null,
            "top": null,
            "visibility": null,
            "width": null
          }
        },
        "6f312345cd9e44ef87f238911c9ed197": {
          "model_module": "@jupyter-widgets/controls",
          "model_name": "DescriptionStyleModel",
          "model_module_version": "1.5.0",
          "state": {
            "_model_module": "@jupyter-widgets/controls",
            "_model_module_version": "1.5.0",
            "_model_name": "DescriptionStyleModel",
            "_view_count": null,
            "_view_module": "@jupyter-widgets/base",
            "_view_module_version": "1.2.0",
            "_view_name": "StyleView",
            "description_width": ""
          }
        }
      }
    }
  },
  "cells": [
    {
      "cell_type": "markdown",
      "metadata": {
        "id": "view-in-github",
        "colab_type": "text"
      },
      "source": [
        "<a href=\"https://colab.research.google.com/github/zahra73f/extract-key-data-points-from-invoices/blob/main/extract_key_data_points_from_invoices.ipynb\" target=\"_parent\"><img src=\"https://colab.research.google.com/assets/colab-badge.svg\" alt=\"Open In Colab\"/></a>"
      ]
    },
    {
      "cell_type": "markdown",
      "source": [
        "# Installation"
      ],
      "metadata": {
        "id": "S2EpvGk1QduG"
      }
    },
    {
      "cell_type": "code",
      "execution_count": 1,
      "metadata": {
        "colab": {
          "base_uri": "https://localhost:8080/"
        },
        "id": "rBA42GLmQQ3P",
        "outputId": "01019371-6518-4c1b-a112-e5aaf195bd20"
      },
      "outputs": [
        {
          "output_type": "stream",
          "name": "stdout",
          "text": [
            "Looking in indexes: https://pypi.org/simple, https://us-python.pkg.dev/colab-wheels/public/simple/\n",
            "Collecting transformers\n",
            "  Downloading transformers-4.29.1-py3-none-any.whl (7.1 MB)\n",
            "\u001b[2K     \u001b[90m━━━━━━━━━━━━━━━━━━━━━━━━━━━━━━━━━━━━━━━━\u001b[0m \u001b[32m7.1/7.1 MB\u001b[0m \u001b[31m63.5 MB/s\u001b[0m eta \u001b[36m0:00:00\u001b[0m\n",
            "\u001b[?25hRequirement already satisfied: filelock in /usr/local/lib/python3.10/dist-packages (from transformers) (3.12.0)\n",
            "Collecting huggingface-hub<1.0,>=0.14.1 (from transformers)\n",
            "  Downloading huggingface_hub-0.14.1-py3-none-any.whl (224 kB)\n",
            "\u001b[2K     \u001b[90m━━━━━━━━━━━━━━━━━━━━━━━━━━━━━━━━━━━━━━\u001b[0m \u001b[32m224.5/224.5 kB\u001b[0m \u001b[31m21.2 MB/s\u001b[0m eta \u001b[36m0:00:00\u001b[0m\n",
            "\u001b[?25hRequirement already satisfied: numpy>=1.17 in /usr/local/lib/python3.10/dist-packages (from transformers) (1.22.4)\n",
            "Requirement already satisfied: packaging>=20.0 in /usr/local/lib/python3.10/dist-packages (from transformers) (23.1)\n",
            "Requirement already satisfied: pyyaml>=5.1 in /usr/local/lib/python3.10/dist-packages (from transformers) (6.0)\n",
            "Requirement already satisfied: regex!=2019.12.17 in /usr/local/lib/python3.10/dist-packages (from transformers) (2022.10.31)\n",
            "Requirement already satisfied: requests in /usr/local/lib/python3.10/dist-packages (from transformers) (2.27.1)\n",
            "Collecting tokenizers!=0.11.3,<0.14,>=0.11.1 (from transformers)\n",
            "  Downloading tokenizers-0.13.3-cp310-cp310-manylinux_2_17_x86_64.manylinux2014_x86_64.whl (7.8 MB)\n",
            "\u001b[2K     \u001b[90m━━━━━━━━━━━━━━━━━━━━━━━━━━━━━━━━━━━━━━━━\u001b[0m \u001b[32m7.8/7.8 MB\u001b[0m \u001b[31m88.9 MB/s\u001b[0m eta \u001b[36m0:00:00\u001b[0m\n",
            "\u001b[?25hRequirement already satisfied: tqdm>=4.27 in /usr/local/lib/python3.10/dist-packages (from transformers) (4.65.0)\n",
            "Requirement already satisfied: fsspec in /usr/local/lib/python3.10/dist-packages (from huggingface-hub<1.0,>=0.14.1->transformers) (2023.4.0)\n",
            "Requirement already satisfied: typing-extensions>=3.7.4.3 in /usr/local/lib/python3.10/dist-packages (from huggingface-hub<1.0,>=0.14.1->transformers) (4.5.0)\n",
            "Requirement already satisfied: urllib3<1.27,>=1.21.1 in /usr/local/lib/python3.10/dist-packages (from requests->transformers) (1.26.15)\n",
            "Requirement already satisfied: certifi>=2017.4.17 in /usr/local/lib/python3.10/dist-packages (from requests->transformers) (2022.12.7)\n",
            "Requirement already satisfied: charset-normalizer~=2.0.0 in /usr/local/lib/python3.10/dist-packages (from requests->transformers) (2.0.12)\n",
            "Requirement already satisfied: idna<4,>=2.5 in /usr/local/lib/python3.10/dist-packages (from requests->transformers) (3.4)\n",
            "Installing collected packages: tokenizers, huggingface-hub, transformers\n",
            "Successfully installed huggingface-hub-0.14.1 tokenizers-0.13.3 transformers-4.29.1\n"
          ]
        }
      ],
      "source": [
        "pip install transformers "
      ]
    },
    {
      "cell_type": "markdown",
      "source": [
        "#Dataset Preparation"
      ],
      "metadata": {
        "id": "y4fcB9q5Qg7c"
      }
    },
    {
      "cell_type": "code",
      "source": [
        "{\n",
        "'id': '25',\n",
        "'ner_tags': [0,17,18,19,0,1,2,3,4,5,6,7,8,9,0,0,0,0,0,10,11,12,13,14,15,16,10,11,12,13,14,15,16,10,11,12,13,14,15,16,10,11,12,13,14,15,16],\n",
        "'tokens': ['Compañía', 'emisora', 'nombre', 'ABC', 'Compañía','Número', 'de', 'factura', 'Fecha', '20230513', 'Cantidad', 'de', 'factura', '100000', 'Cantidad', 'de', 'impuesto', '15000', 'Lista', 'de', 'artículos', 'Descripción', 'Producto', 'A', 'Cantidad', '50000', 'Cantidad', '2', 'Descripción', 'Producto', 'B', 'Cantidad', '25000', 'Cantidad', '3', 'Descripción', 'Producto', 'C', 'Cantidad', '10000', 'Cantidad', '1', 'Descripción', 'Producto', 'D', 'Cantidad', '100']\n",
        "},\n",
        "{\n",
        "'id': '26',\n",
        "'ner_tags': [0,17,18,19,0,1,2,3,4,5,6,7,8,9,0,0,0,0,0,10,11,12,13,14,15,16,10,11,12,13,14,15,16,10,11,12,13,14,15,16,10,11,12,13,14,15,16],\n",
        "'tokens':  ['Issuing', 'Company', 'Name', 'ABC', 'Company','Invoice', 'Date', '20230513', 'Invoice', 'Amount', '100000', 'Tax', 'Amount', '15000', 'Array', 'of', 'Invoice', 'Line', 'Items', 'Description', 'Product', 'A', 'Amount', '50000', 'Quantity', '2', 'Description', 'Product', 'B', 'Amount', '25000', 'Quantity', '3', 'Description', 'Product', 'C', 'Amount', '10000', 'Quantity', '1', 'Description', 'Product', 'D', 'Amount', '10000', 'Quantity', '8']\n",
        "},\n",
        "{\n",
        "'id': '27',\n",
        "'ner_tags': [0,17,18,19,0,1,2,3,4,5,6,7,8,9,0,0,0,0,0,10,11,12,13,14,15,16,10,11,12,13,14,15,16,10,11,12,13,14,15,16,10,11,12,13,14,15,16],\n",
        "'tokens': ['Issuing', 'Company', 'Name', 'XYZ', 'Company','Invoice', 'Date', '20230513', 'Invoice', 'Amount', '50000', 'Tax', 'Amount', '7500', 'Array', 'of', 'Invoice', 'Line', 'Items', 'Description', 'Product', 'E', 'Amount', '15000', 'Quantity', '1', 'Description', 'Product', 'F', 'Amount', '20000', 'Quantity', '2', 'Description', 'Product', 'G', 'Amount', '5000', 'Quantity', '3', 'Description', 'Product', 'H', 'Amount', '15000', 'Quantity', '5']\n",
        "},\n",
        "{\n",
        "'id': '28',\n",
        "'ner_tags': [0,17,18,19,0,1,2,3,4,5,6,7,8,9,0,0,0,0,0,10,11,12,13,14,15,16,10,11,12,13,14,15,16,10,11,12,13,14,15,16,10,11,12,13,14,15,16],\n",
        "'tokens': ['发票', '开具公司', '名称', 'ABC', '公司','发票日期', '20230513', '发票金额', '100000', '税金', '金额', '15000', '发票明细', '商品', '描述', '商品A', '金额', '50000', '数量', '2', '描述', '商品B', '金额', '25000', '数量', '3', '描述', '商品C', '金额', '10000', '数量', '1', '描述', '商品D', '金额', '10000', '数量', '8']\n",
        "},\n",
        "{\n",
        "'id': '29',\n",
        "'ner_tags': [0,17,18,19,0,1,2,3,4,5,6,7,8,9,0,0,0,0,0,10,11,12,13,14,15,16,10,11,12,13,14,15,16,10,11,12,13,14,15,16,10,11,12,13,14,15,16],\n",
        "'tokens': ['发票', '开具公司', '名称', 'XYZ', '公司','发票日期', '20230513', '发票金额', '50000', '税金', '金额', '7500', '发票明细', '商品', '描述', '商品E', '金额', '15000', '数量', '1', '描述', '商品F', '金额', '20000', '数量', '2', '描述', '商品G', '金额', '5000', '数量', '3', '描述', '商品H', '金额', '15000', '数量', '5']\n",
        "},\n",
        "{\n",
        "'id': '30',\n",
        "'ner_tags': [0,17,18,19,0,1,2,3,4,5,6,7,8,9,0,0,0,0,0,10,11,12,13,14,15,16,10,11,12,13,14,15,16,10,11,12,13,14,15,16,10,11,12,13,14,15,16],\n",
        "'tokens': ['Emisor', 'Nombre', 'ABC', 'Fecha', 'de', 'factura', '20230513', 'Monto', 'de', 'factura', '100000', 'Monto', 'de', 'impuesto', '15000', 'Array', 'de', 'línea', 'de', 'factura', 'Descripción', 'Producto', 'A', 'Monto', '50000', 'Cantidad', '2', 'Descripción', 'Producto', 'B', 'Monto', '25000', 'Cantidad', '3', 'Descripción', 'Producto', 'C', 'Monto', '10000', 'Cantidad', '1', 'Descripción', 'Producto', 'D', 'Monto', '10000', 'Cantidad', '8']\n",
        "},\n",
        "{\n",
        "'id': '31',\n",
        "'ner_tags': [0,17,18,19,0,1,2,3,4,5,6,7,8,9,0,0,0,0,0,10,11,12,13,14,15,16,10,11,12,13,14,15,16,10,11,12,13,14,15,16,10,11,12,13,14,15,16],\n",
        "'tokens': ['Emisor', 'Nombre', 'XYZ', 'Fecha', 'de', 'factura', '20230513', 'Monto', 'de', 'factura', '50000', 'Monto', 'de', 'impuesto', '7500', 'Array', 'de', 'línea', 'de', 'factura', 'Descripción', 'Producto', 'E', 'Monto', '15000', 'Cantidad', '1', 'Descripción', 'Producto', 'F', 'Monto', '20000', 'Cantidad', '2', 'Descripción', 'Producto', 'G', 'Monto', '5000', 'Cantidad', '3', 'Descripción', 'Producto', 'H', 'Monto', '15000', 'Cantidad', '5']\n",
        "},\n",
        "{\n",
        "'id': '32',\n",
        "'ner_tags': [0,17,18,19,0,1,2,3,4,5,6,7,8,9,0,0,0,0,0,10,11,12,13,14,15,16,10,11,12,13,14,15,16,10,11,12,13,14,15,16,10,11,12,13,14,15,16],\n",
        "'tokens': ['Aussteller', 'Name', 'ABC', 'Rechnungsdatum', '20230513', 'Rechnungsbetrag', '100000', 'Steuersatz', '15000', 'Array', 'von', 'Rechnungszeilen', 'Beschreibung', 'Produkt', 'A', 'Betrag', '50000', 'Menge', '2', 'Beschreibung', 'Produkt', 'B', 'Betrag', '25000', 'Menge', '3', 'Beschreibung', 'Produkt', 'C', 'Betrag', '10000', 'Menge', '1', 'Beschreibung', 'Produkt', 'D', 'Betrag', '10000', 'Menge', '8']\n",
        "},\n",
        "{\n",
        "'id': '33',\n",
        "'ner_tags': [0,17,18,19,0,1,2,3,4,5,6,7,8,9,0,0,0,0,0,10,11,12,13,14,15,16,10,11,12,13,14,15,16,10,11,12,13,14,15,16,10,11,12,13,14,15,16],\n",
        "'tokens': ['نام شرکت صادر کننده', 'ABC', 'تاریخ صدور فاکتور', '20230513', 'مبلغ فاکتور', '100000', 'مبلغ مالیات', '15000', 'آرایه ای از آیتم های فاکتور', 'توضیحات', 'محصول A', 'مبلغ', '50000', 'تعداد', '2', 'توضیحات', 'محصول B', 'مبلغ', '25000', 'تعداد', '3', 'توضیحات', 'محصول C', 'مبلغ', '10000', 'تعداد', '1', 'توضیحات', 'محصول D', 'مبلغ', '10000', 'تعداد', '8']\n",
        "},\n",
        "{\n",
        "'id': '34',\n",
        "'ner_tags': [0,17,18,19,0,1,2,3,4,5,6,7,8,9,0,0,0,0,0,10,11,12,13,14,15,16,10,11,12,13,14,15,16,10,11,12,13,14,15,16,10,11,12,13,14,15,16],\n",
        "'tokens': ['نام شرکت صادر کننده', 'XYZ', 'تاریخ صدور فاکتور', '20230513', 'مبلغ فاکتور', '50000', 'مبلغ مالیات', '7500', 'آرایه ای از آیتم های فاکتور', 'توضیحات', 'محصول E', 'مبلغ', '15000', 'تعداد', '1', 'توضیحات', 'محصول F', 'مبلغ', '20000', 'تعداد', '2', 'توضیحات', 'محصول G', 'مبلغ', '5000', 'تعداد', '3', 'توضیحات', 'محصول H', 'مبلغ', '15000', 'تعداد', '5']\n",
        "},"
      ],
      "metadata": {
        "id": "Kk4oAhGl17kg"
      },
      "execution_count": null,
      "outputs": []
    },
    {
      "cell_type": "code",
      "source": [
        "dataset= [{\n",
        "'id': '0',\n",
        "'ner_tags': [1,2,3,0,4,5,5,6,7,9,0,0,0,10,11,12,13,14,15,16,10,11,12,13,14,15,16,10,11,12,13,14,15,16,0,0,17,18,19,0],\n",
        "'tokens': ['Facture', 'Date', '20230513', 'Montant', 'de', 'la', 'facture', '100000', 'Taxes', '15000', 'Liste', 'des', 'produits', 'Description', 'Produit', 'A', 'Montant', '50000', 'Quantité', '2', 'Description', 'Produit', 'B', 'Montant', '25000', 'Quantité', '3', 'Description', 'Produit', 'C', 'Montant', '10000', 'Quantité', '1', 'Nom', 'de', 'l\\'entreprise', 'émétrice', 'ABC', 'Entreprise']\n",
        "},\n",
        "{\n",
        "'id': '1',\n",
        "'ner_tags': [1,2,3,0,4,5,5,6,7,9,0,0,0,10,11,12,13,14,15,16,10,11,12,13,14,15,16,0,0,17,18,19,0],\n",
        "'tokens': ['Facture', 'Date', '20230601', 'Montant', 'de', 'la', 'facture', '75000', 'Taxes', '11250', 'Liste', 'des', 'produits', 'Description', 'Produit', 'D', 'Montant', '37500', 'Quantité', '2', 'Description', 'Produit', 'E', 'Montant', '18750', 'Quantité', '3', 'Nom', 'de', 'l\\'entreprise', 'émétrice', 'XYZ', 'Inc.']\n",
        "},\n",
        "{\n",
        "'id': '2',\n",
        "'ner_tags': [1,2,3,0,4,5,5,6,7,9,0,0,0,10,11,12,13,14,15,16,10,11,12,13,14,15,16,10,11,12,13,14,15,16,0,0,17,18,19,0],\n",
        "'tokens': ['Facture', 'Date', '20230715', 'Montant', 'de', 'la', 'facture', '200000', 'Taxes', '30000', 'Liste', 'des', 'produits', 'Description', 'Produit', 'F', 'Montant', '100000', 'Quantité', '2', 'Description', 'Produit', 'G', 'Montant', '50000', 'Quantité', '3', 'Description', 'Produit', 'H', 'Montant', '20000', 'Quantité', '1', 'Nom', 'de', 'l\\'entreprise', 'émétrice', 'DEF', 'Corp.']\n",
        "},\n",
        "{\n",
        "'id': '3',\n",
        "'ner_tags':[1,2,3,4,5,6,7,8,9,0,0,10,11,12,13,14,15,16,10,11,12,13,14,15,16,10,11,12,13,14,15,16,17,18,18,19,0],\n",
        "'tokens':  ['فاکتور', 'تاریخ', '۲۰۲۳۰۵۱۳', 'مبلغ', 'فاکتور', '۱۰۰۰۰۰', 'مالیات', 'مبلغ', '۱۵۰۰۰', 'آرایه', 'محصولات', 'توضیحات', 'محصول', 'A', 'مبلغ', '۵۰۰۰۰', 'تعداد', '۲', 'توضیحات', 'محصول', 'B', 'مبلغ', '۲۵۰۰۰', 'تعداد', '۳', 'توضیحات', 'محصول', 'C', 'مبلغ', '۱۰۰۰۰', 'تعداد', '۱', 'نام', 'شرکت', 'صادرکننده', 'ABC', 'Company']\n",
        "},\n",
        "{\n",
        "'id': '4',\n",
        "'ner_tags': [1,2,3,4,5,6,7,8,9,0,0,10,11,12,13,14,15,16,10,11,12,13,14,15,16,17,18,18,19,0],\n",
        "'tokens': ['فاکتور', 'تاریخ', '۲۰۲۳۰۶۰۱', 'مبلغ', 'فاکتور', '۷۵۰۰۰', 'مالیات', 'مبلغ', '۱۱۲۵۰', 'آرایه', 'محصولات', 'توضیحات', 'محصول', 'D', 'مبلغ', '۳۷۵۰۰', 'تعداد', '۲', 'توضیحات', 'محصول', 'E', 'مبلغ', '۱۸۷۵۰', 'تعداد', '۳', 'نام', 'شرکت', 'صادرکننده', 'XYZ', 'Inc.']\n",
        "},\n",
        "{\n",
        "'id': '5',\n",
        "'ner_tags': [1,2,3,4,5,6,7,8,9,0,0,10,11,12,13,14,15,16,10,11,12,13,14,15,16,10,11,12,13,14,15,16,17,18,18,19,0],\n",
        "'tokens': ['فاکتور', 'تاریخ', '۲۰۲۳۰۷۱۵', 'مبلغ', 'فاکتور', '۲۰۰۰۰۰', 'مالیات', 'مبلغ', '۳۰۰۰۰', 'آرایه', 'محصولات', 'توضیحات', 'محصول', 'F', 'مبلغ', '۱۰۰۰۰۰', 'تعداد', '۲', 'توضیحات', 'محصول', 'G', 'مبلغ', '۵۰۰۰۰', 'تعداد', '۳', 'توضیحات', 'محصول', 'H', 'مبلغ', '۲۰۰۰۰', 'تعداد', '۱', 'نام', 'شرکت', 'صادرکننده', 'DEF', 'Corp.']\n",
        "},\n",
        "{\n",
        "'id': '6',\n",
        "'ner_tags':  [1,2,3,4,5,6,7,8,9,0,0,0,0,0,10,11,12,13,14,15,16,10,11,12,13,14,15,16,10,11,12,13,14,15,16,0,17,18,19,0],\n",
        "'tokens': ['Invoice', 'Date', '20230513', 'Invoice', 'Amount', '100000', 'Tax', 'Amount', '15000', 'Array', 'of', 'Invoice', 'Line', 'Items', 'Description', 'Product', 'A', 'Amount', '50000', 'Quantity', '2', 'Description', 'Product', 'B', 'Amount', '25000', 'Quantity', '3', 'Description', 'Product', 'C', 'Amount', '10000', 'Quantity', '1', 'Issuing', 'Company', 'Name', 'ABC', 'Company']\n",
        "},\n",
        "{\n",
        "'id': '7',\n",
        "'ner_tags': [1,2,3,0,4,5,5,6,7,9,0,0,0,10,11,12,13,14,15,16,10,11,12,13,14,15,16,10,11,12,13,14,15,16,0,0,17,18,19,0],\n",
        "'tokens': ['Facture', 'Date', '20230513', 'Montant', 'de', 'la', 'facture', '100000', 'Taxes', '15000', 'Liste', 'des', 'produits', 'Description', 'Produit', 'A', 'Montant', '50000', 'Quantité', '2', 'Description', 'Produit', 'B', 'Montant', '25000', 'Quantité', '3', 'Description', 'Produit', 'C', 'Montant', '10000', 'Quantité', '1', 'Nom', 'de', 'l\\'entreprise', 'émétrice', 'ABC', 'Entreprise']\n",
        "},\n",
        "{\n",
        "'id': '8',\n",
        "'ner_tags':[1,2,3,4,5,6,7,8,9,0,0,10,11,12,13,14,15,16,10,11,12,13,14,15,16,10,11,12,13,14,15,16,17,18,18,19,0],\n",
        "'tokens': ['فاکتور', 'تاریخ', '۲۰۲۳۰۵۱۳', 'مبلغ', 'فاکتور', '۱۰۰۰۰۰', 'مالیات', 'مبلغ', '۱۵۰۰۰', 'آرایه', 'محصولات', 'توضیحات', 'محصول', 'A', 'مبلغ', '۵۰۰۰۰', 'تعداد', '۲', 'توضیحات', 'محصول', 'B', 'مبلغ', '۲۵۰۰۰', 'تعداد', '۳', 'توضیحات', 'محصول', 'C', 'مبلغ', '۱۰۰۰۰', 'تعداد', '۱', 'نام', 'شرکت', 'صادرکننده', 'ABC', 'Company']\n",
        "},\n",
        "{\n",
        "'id': '9',\n",
        "'ner_tags': [1,2,3,4,6,7,8,9,0,0,0,10,11,12,13,14,15,16,10,11,12,13,14,15,16,10,11,12,13,14,15,16,0,17,18,19,0],\n",
        "'tokens': ['Rechnung', 'Datum', '20230513', 'Rechnungsbetrag', '100000', 'Steuer', 'Betrag', '15000', 'Array', 'von', 'Rechnungspositionen', 'Beschreibung', 'Produkt', 'A', 'Betrag', '50000', 'Menge', '2', 'Beschreibung', 'Produkt', 'B', 'Betrag', '25000', 'Menge', '3', 'Beschreibung', 'Produkt', 'C', 'Betrag', '10000', 'Menge', '1', 'Ausstellendes', 'Unternehmen', 'Name', 'ABC', 'Company']\n",
        "},\n",
        "{\n",
        "'id': '10',\n",
        "'ner_tags': [1,2,3,4,5,6,7,8,9,0,0,0,10,11,12,13,14,15,16,10,11,12,13,14,15,16,10,11,12,13,14,15,16,0,17,18,19,0],\n",
        "'tokens': ['Faktura', 'Data', '20230513', 'Kwota', 'faktury', '100000', 'Podatek', 'Kwota', '15000', 'Tablica', 'pozycji', 'faktury', 'Opis', 'Produkt', 'A', 'Kwota', '50000', 'Ilość', '2', 'Opis', 'Produkt', 'B', 'Kwota', '25000', 'Ilość', '3', 'Opis', 'Produkt', 'C', 'Kwota', '10000', 'Ilość', '1', 'Nazwa', 'firmy', 'wystawiającej', 'ABC', 'Company']\n",
        "},\n",
        "{\n",
        "'id': '11',\n",
        "'ner_tags': [1,2,3,4,5,6,7,8,9,0,0,0,0,10,11,12,13,14,15,16,0,10,11,12,13,14,15,16,0,10,11,12,13,14,15,16,0,0,17,18,19,0],\n",
        "'tokens': ['Fatura', 'Tarih', '20230513', 'Fatura', 'Tutarı', '100000', 'Vergi', 'Tutarı', '15000', 'Fatura', 'Satırları', 'Dizisi', 'Ürün', 'Açıklaması', 'Ürün', 'A', 'Tutar', '50000', 'Adet', '2', 'Ürün', 'Açıklaması', 'Ürün', 'B', 'Tutar', '25000', 'Adet', '3', 'Ürün', 'Açıklaması', 'Ürün', 'C', 'Tutar', '10000', 'Adet', '1', 'Fatura', 'Düzenleyen', 'Şirket', 'Adı', 'ABC', 'Company']\n",
        "},\n",
        "{\n",
        "'id': '12',\n",
        "'ner_tags':[1,2,3,4,5,6,7,8,9,0,0,0,10,11,12,13,14,15,16,10,11,12,13,14,15,16,10,11,12,13,14,15,16,0,0,0,17,18,19,0],\n",
        "'tokens': ['Factura', 'Fecha', '20230513', 'Importe', 'Factura', '100000', 'Impuesto', 'Importe', '15000', 'Array', 'de', 'productos', 'Descripción', 'Producto', 'A', 'Importe', '50000', 'Cantidad', '2', 'Descripción', 'Producto', 'B', 'Importe', '25000', 'Cantidad', '3', 'Descripción', 'Producto', 'C', 'Importe', '10000', 'Cantidad', '1', 'Nombre', 'de', 'la', 'compañía', 'emisora', 'ABC', 'Company']\n",
        "},\n",
        "{\n",
        "'id': '13',\n",
        "'ner_tags': [1,2,3,0,4,5,5,6,7,9,0,0,0,10,11,12,13,14,15,16,10,11,12,13,14,15,16,10,11,12,13,14,15,16,0,0,17,18,19,0],\n",
        "'tokens': ['Facture', 'Date', '20230513', 'Montant', 'de', 'la', 'facture', '100000', 'Taxes', '15000', 'Liste', 'des', 'produits', 'Description', 'Produit', 'A', 'Montant', '50000', 'Quantité', '2', 'Description', 'Produit', 'B', 'Montant', '25000', 'Quantité', '3', 'Description', 'Produit', 'C', 'Montant', '10000', 'Quantité', '1', 'Nom', 'de', 'l\\'entreprise', 'émétrice', 'ABC', 'Entreprise']\n",
        "},\n",
        "{\n",
        "'id': '14',\n",
        "'ner_tags': [1,2,3,0,4,5,5,6,7,9,0,0,0,10,11,12,13,14,15,16,10,11,12,13,14,15,16,10,11,12,13,14,15,16,0,0,17,18,19,0],\n",
        "'tokens': ['Facture', 'Date', '20230513', 'Montant', 'de', 'la', 'facture', '50000', 'Taxes', '7500', 'Liste', 'des', 'produits', 'Description', 'Produit', 'D', 'Montant', '15000', 'Quantité', '1', 'Description', 'Produit', 'E', 'Montant', '20000', 'Quantité', '2', 'Description', 'Produit', 'F', 'Montant', '5000', 'Quantité', '3', 'Nom', 'de', 'l\\'entreprise', 'émétrice', 'XYZ', 'Corporation']\n",
        "},\n",
        "{\n",
        "'id': '15',\n",
        "'ner_tags': [1,2,3,0,4,5,6,7,8,9,0,0,0,10,11,12,13,14,15,16,10,11,12,13,14,15,16,10,11,12,13,14,15,16,0,0,0,17,18,19,0],\n",
        "'tokens': ['Factura', 'Fecha', '20230513', 'Monto', 'de', 'factura', '100000', 'Impuesto', 'Monto', '15000', 'Lista', 'de', 'productos', 'Descripción', 'Producto', 'A', 'Monto', '50000', 'Cantidad', '2', 'Descripción', 'Producto', 'B', 'Monto', '25000', 'Cantidad', '3', 'Descripción', 'Producto', 'C', 'Monto', '10000', 'Cantidad', '1', 'Nombre', 'de', 'la', 'empresa', 'emisora', 'ABC', 'Empresa']\n",
        "},\n",
        "{\n",
        "'id': '16',\n",
        "'ner_tags': [1,2,3,0,4,5,6,7,8,9,0,0,0,10,11,12,13,14,15,16,10,11,12,13,14,15,16,10,11,12,13,14,15,16,0,0,0,17,18,19,0],\n",
        "'tokens': ['Factura', 'Fecha', '20230513', 'Monto', 'de', 'factura', '50000', 'Impuesto', 'Monto', '7500', 'Lista', 'de', 'productos', 'Descripción', 'Producto', 'D', 'Monto', '15000', 'Cantidad', '1', 'Descripción', 'Producto', 'E', 'Monto', '20000', 'Cantidad', '2', 'Descripción', 'Producto', 'F', 'Monto', '5000', 'Cantidad', '3', 'Nombre', 'de', 'la', 'empresa', 'emisora', 'XYZ', 'Corporación']\n",
        "},\n",
        "{\n",
        "'id': '17',\n",
        "'ner_tags': [1,2,3,4,6,7,8,9,0,0,0,10,11,12,13,14,15,16,10,11,12,13,14,15,16,10,11,12,13,14,15,16,0,0,17,18,19,0],\n",
        "'tokens': ['Rechnung', 'Datum', '20230513', 'Rechnungsbetrag', '100000', 'Steuer', 'Betrag', '15000', 'Liste', 'der', 'Artikel', 'Beschreibung', 'Produkt', 'A', 'Betrag', '50000', 'Anzahl', '2', 'Beschreibung', 'Produkt', 'B', 'Betrag', '25000', 'Anzahl', '3', 'Beschreibung', 'Produkt', 'C', 'Betrag', '10000', 'Anzahl', '1', 'Name', 'des', 'ausstellenden', 'Unternehmens', 'ABC', 'Unternehmen']\n",
        "},\n",
        "{\n",
        "'id': '18',\n",
        "'ner_tags': [1,2,3,4,6,7,8,9,0,0,0,10,11,12,13,14,15,16,10,11,12,13,14,15,16,10,11,12,13,14,15,16,0,0,17,18,19,0],\n",
        "'tokens': ['Rechnung', 'Datum', '20230513', 'Rechnungsbetrag', '50000', 'Steuer', 'Betrag', '7500', 'Liste', 'der', 'Artikel', 'Beschreibung', 'Produkt', 'D', 'Betrag', '15000', 'Anzahl', '1', 'Beschreibung', 'Produkt', 'E', 'Betrag', '20000', 'Anzahl', '2', 'Beschreibung', 'Produkt', 'F', 'Betrag', '5000', 'Anzahl', '3', 'Name', 'des', 'ausstellenden', 'Unternehmens', 'XYZ', 'GmbH']\n",
        "},\n",
        "{\n",
        "'id': '19',\n",
        "'ner_tags': [0,17,18,19,0,1,2,3,4,5,6,7,8,9,0,0,0,10,11,12,13,14,15,16,0,10,11,12,13,14,15,16,0,10,11,12,13,14,15,16,0,10,11,12,13,14,15,16],\n",
        "'tokens': ['発行', '会社', '名', 'ABC', '社', '請求書', '日付', '20230513', '請求書', '金額', '100000', '税金', '金額', '15000', '請求書', '明細', '商品', '説明', '商品', 'A', '金額', '50000', '数量', '2', '商品', '説明', '商品', 'B', '金額', '25000', '数量', '3', '商品', '説明', '商品', 'C', '金額', '10000', '数量', '1', '商品', '説明', '商品', 'D', '金額', '10000', '数量', '8']\n",
        "},\n",
        "{\n",
        "'id': '20',\n",
        "'ner_tags': [0,17,18,19,0,1,2,3,4,5,6,7,8,9,0,0,0,10,11,12,13,14,15,16,0,10,11,12,13,14,15,16,0,10,11,12,13,14,15,16,0,10,11,12,13,14,15,16],\n",
        "'tokens': ['発行', '会社', '名', 'XYZ', '株式会社', '請求書', '日付', '20230513', '請求書', '金額', '50000', '税金', '金額', '7500', '請求書', '明細', '商品', '説明', '商品', 'E', '金額', '15000', '数量', '1', '商品', '説明', '商品', 'F', '金額', '20000', '数量', '2', '商品', '説明', '商品', 'G', '金額', '5000', '数量', '3', '商品', '説明', '商品', 'H', '金額', '15000', '数量', '5']\n",
        "},\n",
        "{\n",
        "'id': '21',\n",
        "'ner_tags': [0,17,18,19,0,0,1,2,3,4,5,6,7,8,9,0,0,10,11,12,13,14,15,16,10,11,12,13,14,15,16,10,11,12,13,14,15,16,10,11,12,13,14,15,16],\n",
        "'tokens': ['Выписывающая', 'компания', 'название', 'ABC', 'компания','Номер', 'счета', 'Дата', '20230513', 'Сумма', 'счета', '100000', 'Налог', 'сумма', '15000', 'Список', 'товаров', 'Описание', 'Товар', 'A', 'Сумма', '50000', 'Количество', '2', 'Описание', 'Товар', 'B', 'Сумма', '25000', 'Количество', '3', 'Описание', 'Товар', 'C', 'Сумма', '10000', 'Количество', '1', 'Описание', 'Товар', 'D', 'Сумма', '10000', 'Количество', '8']\n",
        "},\n",
        "{\n",
        "'id': '22',\n",
        "'ner_tags': [0,17,18,19,0,0,1,2,3,4,5,6,7,8,9,0,0,10,11,12,13,14,15,16,10,11,12,13,14,15,16,10,11,12,13,14,15,16,10,11,12,13,14,15,16],\n",
        "'tokens': ['Выписывающая', 'компания', 'название', 'XYZ', 'компания','Номер', 'счета', 'Дата', '20230513', 'Сумма', 'счета', '50000', 'Налог', 'сумма', '7500', 'Список', 'товаров', 'Описание', 'Товар', 'E', 'Сумма', '15000', 'Количество', '1', 'Описание', 'Товар', 'F', 'Сумма', '20000', 'Количество', '2', 'Описание', 'Товар', 'G', 'Сумма', '5000', 'Количество', '3', 'Описание', 'Товар', 'H', 'Сумма', '15000', 'Количество', '5']\n",
        "},\n",
        "{\n",
        "'id': '23',\n",
        "'ner_tags': [0,17,18,19,0,0,0,1,2,3,0,4,5,6,0,7,8,9,0,0,0,10,11,12,13,14,15,16,10,11,12,13,14,15,16,10,11,12,13,14,15,16,10,11,12,13,14,15,16],\n",
        "'tokens': ['Société', 'émétrice', 'nom', 'ABC', 'Société','Numéro', 'de', 'facture', 'Date', '20230513', 'Montant', 'de', 'facture', '100000', 'Montant', 'de', 'taxe', '15000', 'Liste', 'des', 'articles', 'Description', 'Produit', 'A', 'Montant', '50000', 'Quantité', '2', 'Description', 'Produit', 'B', 'Montant', '25000', 'Quantité', '3', 'Description', 'Produit', 'C', 'Montant', '10000', 'Quantité', '1', 'Description', 'Produit', 'D', 'Montant', '10000', 'Quantité', '8']\n",
        "},\n",
        "{\n",
        "'id': '24',\n",
        "'ner_tags': [0,17,18,19,0,0,0,1,2,3,0,4,5,6,0,7,8,9,0,0,0,10,11,12,13,14,15,16,10,11,12,13,14,15,16,10,11,12,13,14,15,16,10,11,12,13,14,15,16],\n",
        "'tokens': ['Société', 'émétrice', 'nom', 'XYZ', 'Société','Numéro', 'de', 'facture', 'Date', '20230513', 'Montant', 'de', 'facture', '50000', 'Montant', 'de', 'taxe', '7500', 'Liste', 'des', 'articles', 'Description', 'Produit', 'E', 'Montant', '15000', 'Quantité', '1', 'Description', 'Produit', 'F', 'Montant', '20000', 'Quantité', '2', 'Description', 'Produit', 'G', 'Montant', '5000', 'Quantité', '3', 'Description', 'Produit', 'H', 'Montant', '15000', 'Quantité', '5']\n",
        "},\n",
        "\n",
        "{\n",
        "'id': '25',\n",
        "'ner_tags': [17,18,19,1,2,3,4,5,6,7,8,9,0,0,0,0,10,11,12,13,14,15,16,10,11,12,13,14,15,16,10,11,12,13,14,15,16,10,11,12,13,14,15,16],\n",
        "'tokens': ['Issuer' ,'Name', 'ABC', 'Invoice','Date', '20230513', 'Invoice','Amount', '100000', 'Tax','Amount', '15000', 'Array','of','Invoice','Items', 'Description', 'Product','A', 'Amount', '50000', 'Quantity', '2', 'Description', 'Product','B', 'Amount', '25000', 'Quantity', '3', 'Description', 'Product','C', 'Amount', '10000', 'Quantity', '1', 'Description', 'Product','D', 'Amount', '10000', 'Quantity', '8']\n",
        "},\n",
        "{\n",
        "'id': '26',\n",
        "'ner_tags': [17,18,19,1,2,3,4,5,6,7,8,9,0,0,0,0,10,11,12,13,14,15,16,10,11,12,13,14,15,16,10,11,12,13,14,15,16,10,11,12,13,14,15,16],\n",
        "'tokens': ['Issuer','Name', 'XYZ', 'Invoice','Date', '20230513', 'Invoice','Amount', '50000', 'Tax','Amount', '7500', 'Array','of','Invoice','Items', 'Description', 'Product','E', 'Amount', '15000', 'Quantity', '1', 'Description', 'Product','F', 'Amount', '20000', 'Quantity', '2', 'Description', 'Product','G', 'Amount', '5000', 'Quantity', '3', 'Description', 'Product','H', 'Amount', '15000', 'Quantity', '5']\n",
        "}]"
      ],
      "metadata": {
        "id": "JLyflfRUQggf"
      },
      "execution_count": 92,
      "outputs": []
    },
    {
      "cell_type": "code",
      "source": [
        "for example in dataset:\n",
        "  if len(example['ner_tags'])!=len(example['tokens']):\n",
        "    print(len(example['ner_tags']))\n",
        "    print(len(example['tokens']))\n",
        "    print(example['id'])"
      ],
      "metadata": {
        "id": "-I-aNAePknJl"
      },
      "execution_count": 93,
      "outputs": []
    },
    {
      "cell_type": "code",
      "source": [
        "import json\n",
        "with open('dataset.json', 'w', encoding='utf8') as f:\n",
        "    json.dump(dataset, f, ensure_ascii=False, indent=4)\n",
        "\n",
        "with open('dataset.json', 'r', encoding='utf8') as f:\n",
        "    data_dict = json.load(f)\n",
        "type(data_dict)"
      ],
      "metadata": {
        "colab": {
          "base_uri": "https://localhost:8080/"
        },
        "id": "M9efJjmVZRRW",
        "outputId": "1c40f2ad-52f5-45c7-a7f9-f323a2391b4b"
      },
      "execution_count": 47,
      "outputs": [
        {
          "output_type": "execute_result",
          "data": {
            "text/plain": [
              "list"
            ]
          },
          "metadata": {},
          "execution_count": 47
        }
      ]
    },
    {
      "cell_type": "markdown",
      "source": [
        "#load a DistilBERT tokenizer"
      ],
      "metadata": {
        "id": "sY3OE8NHVZub"
      }
    },
    {
      "cell_type": "code",
      "source": [
        "from transformers import AutoTokenizer\n",
        "from datasets import Dataset, load_dataset\n",
        "tokenizer = AutoTokenizer.from_pretrained(\"distilbert-base-uncased\")"
      ],
      "metadata": {
        "id": "rZIJyErabGFH"
      },
      "execution_count": 94,
      "outputs": []
    },
    {
      "cell_type": "code",
      "source": [
        "def tokenize_and_align_labels(examples):\n",
        "  # realign the tokens and labels:\n",
        "  #1) Mapping all tokens to their corresponding word with the word_ids method.\n",
        "  #2) Assigning the label -100 to the special tokens [CLS] and [SEP] so they’re ignored by the PyTorch loss function.\n",
        "  #3) Only labeling the first token of a given word. Assign -100 to other subtokens from the same word.\n",
        "\n",
        "\n",
        "    tokenized_inputs = tokenizer(examples[\"tokens\"], truncation=True, is_split_into_words=True)\n",
        "\n",
        "    labels = []\n",
        "    for i, label in enumerate(examples[f\"ner_tags\"]):\n",
        "        word_ids = tokenized_inputs.word_ids(batch_index=i)  # Map tokens to their respective word.\n",
        "        previous_word_idx = None\n",
        "        label_ids = []\n",
        "        for word_idx in word_ids:  # Set the special tokens to -100.\n",
        "            if word_idx is None:\n",
        "                label_ids.append(-100)\n",
        "            elif word_idx != previous_word_idx:  # Only label the first token of a given word.\n",
        "                label_ids.append(label[word_idx])\n",
        "            else:\n",
        "                label_ids.append(-100)\n",
        "            previous_word_idx = word_idx\n",
        "        labels.append(label_ids)\n",
        "\n",
        "    tokenized_inputs[\"labels\"] = labels\n",
        "    return tokenized_inputs\n",
        "\n",
        "data_dict = {k: [d[k] for d in dataset] for k in dataset[0]}\n",
        "dataset = Dataset.from_dict(data_dict)\n",
        "dataset\n",
        "tokenized_invice = dataset.map(tokenize_and_align_labels, batched=True)"
      ],
      "metadata": {
        "colab": {
          "base_uri": "https://localhost:8080/",
          "height": 17,
          "referenced_widgets": [
            "a4e2d2d7469e4ba0bad10acb4cae1962",
            "22c55cc23642431da761f4552d509a8c",
            "707b22c8e9da4636b768987679b9c5e0",
            "f3b215b8e7604e8dafed797071e23d0d",
            "a66520d6ac1d47af9a6b7c82c55fb267",
            "01a90560b1754e2cb4d5b6c15014d1d4",
            "5b35471f5a244276bf0f1c640f459997",
            "9dff68a4b64946e6a8e44e103c88cf1f",
            "b987ab2ad5414c8bb099a0df8244c9fd",
            "eac3c0bc07cf4944ab5965f308210c5c",
            "217d1a57f66c4f2085e1e8638a7ad96f"
          ]
        },
        "id": "T4Y6js9HWLm9",
        "outputId": "bd0b48ea-fd73-48ac-a84f-c5d15998f100"
      },
      "execution_count": 95,
      "outputs": [
        {
          "output_type": "display_data",
          "data": {
            "text/plain": [
              "Map:   0%|          | 0/27 [00:00<?, ? examples/s]"
            ],
            "application/vnd.jupyter.widget-view+json": {
              "version_major": 2,
              "version_minor": 0,
              "model_id": "a4e2d2d7469e4ba0bad10acb4cae1962"
            }
          },
          "metadata": {}
        }
      ]
    },
    {
      "cell_type": "code",
      "source": [
        "# dynamically pad the sentences to the longest length in a batch during collation\n",
        "from transformers import DataCollatorForTokenClassification\n",
        "data_collator = DataCollatorForTokenClassification(tokenizer=tokenizer, return_tensors=\"tf\")"
      ],
      "metadata": {
        "id": "PNcWxOQqXcmQ"
      },
      "execution_count": 96,
      "outputs": []
    },
    {
      "cell_type": "code",
      "source": [
        "import evaluate\n",
        "seqeval = evaluate.load(\"seqeval\")"
      ],
      "metadata": {
        "colab": {
          "base_uri": "https://localhost:8080/",
          "height": 77,
          "referenced_widgets": [
            "92389c068839464e9a23d6c49dce5f3d",
            "0df4e9274edc4df4ad5d247cd55baa78",
            "70bd4e8d859d4a2aa09b0460ec522e93",
            "0c01fba7d73b4c8d9a3102c71ef810fa",
            "47d1041ad9774f2bba7c22dbfb34c451",
            "ce8a4908a26e4ef38d965d2abdd4bcab",
            "1234bb8a0eb7422e8fb475982241c56d",
            "4db2a37945fd4b4193e873afa32c7b43",
            "72c603beca324145ace23c040c61d185",
            "b3904d248f684be5a8fc4576d9b22bde",
            "6f312345cd9e44ef87f238911c9ed197"
          ]
        },
        "id": "YBy5E-TmAa18",
        "outputId": "a341f174-4e58-46a2-b0c8-ba3c0a5f6958"
      },
      "execution_count": 97,
      "outputs": [
        {
          "output_type": "display_data",
          "data": {
            "text/plain": [
              "Downloading builder script:   0%|          | 0.00/6.34k [00:00<?, ?B/s]"
            ],
            "application/vnd.jupyter.widget-view+json": {
              "version_major": 2,
              "version_minor": 0,
              "model_id": "92389c068839464e9a23d6c49dce5f3d"
            }
          },
          "metadata": {}
        }
      ]
    },
    {
      "cell_type": "code",
      "source": [
        "import numpy as np\n",
        "\n",
        "# labels = [label_list[i] for i in example[f\"ner_tags\"]]\n",
        "\n",
        "\n",
        "def compute_metrics(p):\n",
        "    predictions, labels = p\n",
        "    predictions = np.argmax(predictions, axis=2)\n",
        "\n",
        "    true_predictions = [\n",
        "        [label_list[p] for (p, l) in zip(prediction, label) if l != -100]\n",
        "        for prediction, label in zip(predictions, labels)\n",
        "    ]\n",
        "    true_labels = [\n",
        "        [label_list[l] for (p, l) in zip(prediction, label) if l != -100]\n",
        "        for prediction, label in zip(predictions, labels)\n",
        "    ]\n",
        "\n",
        "    results = seqeval.compute(predictions=true_predictions, references=true_labels)\n",
        "    return {\n",
        "        \"precision\": results[\"overall_precision\"],\n",
        "        \"recall\": results[\"overall_recall\"],\n",
        "        \"f1\": results[\"overall_f1\"],\n",
        "        \"accuracy\": results[\"overall_accuracy\"],\n",
        "    }"
      ],
      "metadata": {
        "id": "UYzJ5As7Akdp"
      },
      "execution_count": 99,
      "outputs": []
    },
    {
      "cell_type": "code",
      "source": [
        "id2label = {0: \"O\",\n",
        "1:\"B-date\",\n",
        "2:\"I-date\",\n",
        "3:\"date\",\n",
        "4:\"B-amunt\",\n",
        "5:\"I-amunt\",\n",
        "6:\"amunt\",\n",
        "7:\"B-tax\",\n",
        "8:\"I-tax\",\n",
        "9:\"tax\",\n",
        "10:\"B-disc\",\n",
        "11:\"I-disc\",\n",
        "12:\"disc\",\n",
        "13:\"B-amoutp\",\n",
        "14:\"amoutp\",\n",
        "15:\"B-qaunt\",\n",
        "16:\"qaunt\",\n",
        "17:\"B-company\",\n",
        "18:\"I-company\",\n",
        "19:\"company\"}\n",
        "\n",
        "label2id = {\n",
        "\"O\":0,\n",
        "\"B-date\":1,\n",
        "\"I-date\":2,\n",
        "\"date\":3,\n",
        "\"B-amunt\":4,\n",
        "\"I-amunt\":5,\n",
        "\"amunt\":6,\n",
        "\"B-tax\":7,\n",
        "\"I-tax\":8,\n",
        "\"tax\":9,\n",
        "\"B-disc\":10,\n",
        "\"I-disc\":11,\n",
        "\"disc\":12,\n",
        "\"B-amoutp\":13,\n",
        "\"amoutp\":14,\n",
        "\"B-qaunt\":15,\n",
        "\"qaunt\":16,\n",
        "\"B-company\":17,\n",
        "\"I-company\":18,\n",
        "\"company\":19\n",
        "}\n"
      ],
      "metadata": {
        "id": "ByCU9ExKCjPs"
      },
      "execution_count": 100,
      "outputs": []
    },
    {
      "cell_type": "code",
      "source": [
        "from transformers import create_optimizer\n",
        "from datasets import Dataset, load_dataset\n",
        "\n",
        "batch_size = 4\n",
        "num_train_epochs = 3\n",
        "num_train_steps = (len(tokenized_invice) // batch_size) * num_train_epochs\n",
        "optimizer, lr_schedule = create_optimizer(\n",
        "    init_lr=2e-5,\n",
        "    num_train_steps=num_train_steps,\n",
        "    weight_decay_rate=0.01,\n",
        "    num_warmup_steps=0,\n",
        ")\n",
        "\n",
        "from transformers import TFAutoModelForTokenClassification\n",
        "\n",
        "model = TFAutoModelForTokenClassification.from_pretrained(\n",
        "    \"distilbert-base-uncased\", num_labels=20, id2label=id2label, label2id=label2id\n",
        ")\n",
        "\n",
        "tf_train_set = model.prepare_tf_dataset(\n",
        "    tokenized_invice,\n",
        "    shuffle=True,\n",
        "    batch_size=4,\n",
        "    collate_fn=data_collator,\n",
        ")\n",
        "import tensorflow as tf\n",
        "\n",
        "model.compile(optimizer=optimizer)"
      ],
      "metadata": {
        "colab": {
          "base_uri": "https://localhost:8080/",
          "height": 955
        },
        "id": "WbQtkgAnD-fk",
        "outputId": "fca9ff5c-53f6-4bf0-f77a-8320def65ac3"
      },
      "execution_count": 107,
      "outputs": [
        {
          "output_type": "stream",
          "name": "stderr",
          "text": [
            "Some layers from the model checkpoint at distilbert-base-uncased were not used when initializing TFDistilBertForTokenClassification: ['vocab_projector', 'activation_13', 'vocab_transform', 'vocab_layer_norm']\n",
            "- This IS expected if you are initializing TFDistilBertForTokenClassification from the checkpoint of a model trained on another task or with another architecture (e.g. initializing a BertForSequenceClassification model from a BertForPreTraining model).\n",
            "- This IS NOT expected if you are initializing TFDistilBertForTokenClassification from the checkpoint of a model that you expect to be exactly identical (initializing a BertForSequenceClassification model from a BertForSequenceClassification model).\n",
            "Some layers of TFDistilBertForTokenClassification were not initialized from the model checkpoint at distilbert-base-uncased and are newly initialized: ['dropout_79', 'classifier']\n",
            "You should probably TRAIN this model on a down-stream task to be able to use it for predictions and inference.\n"
          ]
        },
        {
          "output_type": "error",
          "ename": "ImportError",
          "evalue": "ignored",
          "traceback": [
            "\u001b[0;31m---------------------------------------------------------------------------\u001b[0m",
            "\u001b[0;31mImportError\u001b[0m                               Traceback (most recent call last)",
            "\u001b[0;32m<ipython-input-107-27326050acdc>\u001b[0m in \u001b[0;36m<cell line: 20>\u001b[0;34m()\u001b[0m\n\u001b[1;32m     18\u001b[0m )\n\u001b[1;32m     19\u001b[0m \u001b[0;34m\u001b[0m\u001b[0m\n\u001b[0;32m---> 20\u001b[0;31m tf_train_set = model.prepare_tf_dataset(\n\u001b[0m\u001b[1;32m     21\u001b[0m     \u001b[0mtokenized_invice\u001b[0m\u001b[0;34m,\u001b[0m\u001b[0;34m\u001b[0m\u001b[0;34m\u001b[0m\u001b[0m\n\u001b[1;32m     22\u001b[0m     \u001b[0mshuffle\u001b[0m\u001b[0;34m=\u001b[0m\u001b[0;32mTrue\u001b[0m\u001b[0;34m,\u001b[0m\u001b[0;34m\u001b[0m\u001b[0;34m\u001b[0m\u001b[0m\n",
            "\u001b[0;32m/usr/local/lib/python3.10/dist-packages/transformers/modeling_tf_utils.py\u001b[0m in \u001b[0;36mprepare_tf_dataset\u001b[0;34m(self, dataset, batch_size, shuffle, tokenizer, collate_fn, collate_fn_args, drop_remainder, prefetch)\u001b[0m\n\u001b[1;32m   1375\u001b[0m             \u001b[0;31m`\u001b[0m\u001b[0mDataset\u001b[0m\u001b[0;31m`\u001b[0m\u001b[0;34m:\u001b[0m \u001b[0mA\u001b[0m\u001b[0;31m \u001b[0m\u001b[0;31m`\u001b[0m\u001b[0mtf\u001b[0m\u001b[0;34m.\u001b[0m\u001b[0mdata\u001b[0m\u001b[0;34m.\u001b[0m\u001b[0mDataset\u001b[0m\u001b[0;31m`\u001b[0m \u001b[0mwhich\u001b[0m \u001b[0;32mis\u001b[0m \u001b[0mready\u001b[0m \u001b[0mto\u001b[0m \u001b[0;32mpass\u001b[0m \u001b[0mto\u001b[0m \u001b[0mthe\u001b[0m \u001b[0mKeras\u001b[0m \u001b[0mAPI\u001b[0m\u001b[0;34m.\u001b[0m\u001b[0;34m\u001b[0m\u001b[0;34m\u001b[0m\u001b[0m\n\u001b[1;32m   1376\u001b[0m         \"\"\"\n\u001b[0;32m-> 1377\u001b[0;31m         \u001b[0mrequires_backends\u001b[0m\u001b[0;34m(\u001b[0m\u001b[0mself\u001b[0m\u001b[0;34m,\u001b[0m \u001b[0;34m[\u001b[0m\u001b[0;34m\"datasets\"\u001b[0m\u001b[0;34m]\u001b[0m\u001b[0;34m)\u001b[0m\u001b[0;34m\u001b[0m\u001b[0;34m\u001b[0m\u001b[0m\n\u001b[0m\u001b[1;32m   1378\u001b[0m         \u001b[0;32mimport\u001b[0m \u001b[0mdatasets\u001b[0m\u001b[0;34m\u001b[0m\u001b[0;34m\u001b[0m\u001b[0m\n\u001b[1;32m   1379\u001b[0m \u001b[0;34m\u001b[0m\u001b[0m\n",
            "\u001b[0;32m/usr/local/lib/python3.10/dist-packages/transformers/utils/import_utils.py\u001b[0m in \u001b[0;36mrequires_backends\u001b[0;34m(obj, backends)\u001b[0m\n\u001b[1;32m   1098\u001b[0m     \u001b[0mfailed\u001b[0m \u001b[0;34m=\u001b[0m \u001b[0;34m[\u001b[0m\u001b[0mmsg\u001b[0m\u001b[0;34m.\u001b[0m\u001b[0mformat\u001b[0m\u001b[0;34m(\u001b[0m\u001b[0mname\u001b[0m\u001b[0;34m)\u001b[0m \u001b[0;32mfor\u001b[0m \u001b[0mavailable\u001b[0m\u001b[0;34m,\u001b[0m \u001b[0mmsg\u001b[0m \u001b[0;32min\u001b[0m \u001b[0mchecks\u001b[0m \u001b[0;32mif\u001b[0m \u001b[0;32mnot\u001b[0m \u001b[0mavailable\u001b[0m\u001b[0;34m(\u001b[0m\u001b[0;34m)\u001b[0m\u001b[0;34m]\u001b[0m\u001b[0;34m\u001b[0m\u001b[0;34m\u001b[0m\u001b[0m\n\u001b[1;32m   1099\u001b[0m     \u001b[0;32mif\u001b[0m \u001b[0mfailed\u001b[0m\u001b[0;34m:\u001b[0m\u001b[0;34m\u001b[0m\u001b[0;34m\u001b[0m\u001b[0m\n\u001b[0;32m-> 1100\u001b[0;31m         \u001b[0;32mraise\u001b[0m \u001b[0mImportError\u001b[0m\u001b[0;34m(\u001b[0m\u001b[0;34m\"\"\u001b[0m\u001b[0;34m.\u001b[0m\u001b[0mjoin\u001b[0m\u001b[0;34m(\u001b[0m\u001b[0mfailed\u001b[0m\u001b[0;34m)\u001b[0m\u001b[0;34m)\u001b[0m\u001b[0;34m\u001b[0m\u001b[0;34m\u001b[0m\u001b[0m\n\u001b[0m\u001b[1;32m   1101\u001b[0m \u001b[0;34m\u001b[0m\u001b[0m\n\u001b[1;32m   1102\u001b[0m \u001b[0;34m\u001b[0m\u001b[0m\n",
            "\u001b[0;31mImportError\u001b[0m: \nTFDistilBertForTokenClassification requires the 🤗 Datasets library but it was not found in your environment. You can install it with:\n```\npip install datasets\n```\nIn a notebook or a colab, you can install it by executing a cell with\n```\n!pip install datasets\n```\nthen restarting your kernel.\n\nNote that if you have a local folder named `datasets` or a local python file named `datasets.py` in your current\nworking directory, python may try to import this instead of the 🤗 Datasets library. You should rename this folder or\nthat python file if that's the case. Please note that you may need to restart your runtime after installation.\n",
            "",
            "\u001b[0;31m---------------------------------------------------------------------------\u001b[0;32m\nNOTE: If your import is failing due to a missing package, you can\nmanually install dependencies using either !pip or !apt.\n\nTo view examples of installing some common dependencies, click the\n\"Open Examples\" button below.\n\u001b[0;31m---------------------------------------------------------------------------\u001b[0m\n"
          ],
          "errorDetails": {
            "actions": [
              {
                "action": "open_url",
                "actionText": "Open Examples",
                "url": "/notebooks/snippets/importing_libraries.ipynb"
              }
            ]
          }
        }
      ]
    },
    {
      "cell_type": "code",
      "source": [
        "pip install datasets"
      ],
      "metadata": {
        "colab": {
          "base_uri": "https://localhost:8080/"
        },
        "id": "LtL4q3G6FkAc",
        "outputId": "c604543d-4679-4d57-e5d2-c38bca0b8383"
      },
      "execution_count": 106,
      "outputs": [
        {
          "output_type": "stream",
          "name": "stdout",
          "text": [
            "Looking in indexes: https://pypi.org/simple, https://us-python.pkg.dev/colab-wheels/public/simple/\n",
            "Requirement already satisfied: datasets in /usr/local/lib/python3.10/dist-packages (2.12.0)\n",
            "Requirement already satisfied: numpy>=1.17 in /usr/local/lib/python3.10/dist-packages (from datasets) (1.22.4)\n",
            "Requirement already satisfied: pyarrow>=8.0.0 in /usr/local/lib/python3.10/dist-packages (from datasets) (9.0.0)\n",
            "Requirement already satisfied: dill<0.3.7,>=0.3.0 in /usr/local/lib/python3.10/dist-packages (from datasets) (0.3.6)\n",
            "Requirement already satisfied: pandas in /usr/local/lib/python3.10/dist-packages (from datasets) (1.5.3)\n",
            "Requirement already satisfied: requests>=2.19.0 in /usr/local/lib/python3.10/dist-packages (from datasets) (2.27.1)\n",
            "Requirement already satisfied: tqdm>=4.62.1 in /usr/local/lib/python3.10/dist-packages (from datasets) (4.65.0)\n",
            "Requirement already satisfied: xxhash in /usr/local/lib/python3.10/dist-packages (from datasets) (3.2.0)\n",
            "Requirement already satisfied: multiprocess in /usr/local/lib/python3.10/dist-packages (from datasets) (0.70.14)\n",
            "Requirement already satisfied: fsspec[http]>=2021.11.1 in /usr/local/lib/python3.10/dist-packages (from datasets) (2023.4.0)\n",
            "Requirement already satisfied: aiohttp in /usr/local/lib/python3.10/dist-packages (from datasets) (3.8.4)\n",
            "Requirement already satisfied: huggingface-hub<1.0.0,>=0.11.0 in /usr/local/lib/python3.10/dist-packages (from datasets) (0.14.1)\n",
            "Requirement already satisfied: packaging in /usr/local/lib/python3.10/dist-packages (from datasets) (23.1)\n",
            "Requirement already satisfied: responses<0.19 in /usr/local/lib/python3.10/dist-packages (from datasets) (0.18.0)\n",
            "Requirement already satisfied: pyyaml>=5.1 in /usr/local/lib/python3.10/dist-packages (from datasets) (6.0)\n",
            "Requirement already satisfied: attrs>=17.3.0 in /usr/local/lib/python3.10/dist-packages (from aiohttp->datasets) (23.1.0)\n",
            "Requirement already satisfied: charset-normalizer<4.0,>=2.0 in /usr/local/lib/python3.10/dist-packages (from aiohttp->datasets) (2.0.12)\n",
            "Requirement already satisfied: multidict<7.0,>=4.5 in /usr/local/lib/python3.10/dist-packages (from aiohttp->datasets) (6.0.4)\n",
            "Requirement already satisfied: async-timeout<5.0,>=4.0.0a3 in /usr/local/lib/python3.10/dist-packages (from aiohttp->datasets) (4.0.2)\n",
            "Requirement already satisfied: yarl<2.0,>=1.0 in /usr/local/lib/python3.10/dist-packages (from aiohttp->datasets) (1.9.2)\n",
            "Requirement already satisfied: frozenlist>=1.1.1 in /usr/local/lib/python3.10/dist-packages (from aiohttp->datasets) (1.3.3)\n",
            "Requirement already satisfied: aiosignal>=1.1.2 in /usr/local/lib/python3.10/dist-packages (from aiohttp->datasets) (1.3.1)\n",
            "Requirement already satisfied: filelock in /usr/local/lib/python3.10/dist-packages (from huggingface-hub<1.0.0,>=0.11.0->datasets) (3.12.0)\n",
            "Requirement already satisfied: typing-extensions>=3.7.4.3 in /usr/local/lib/python3.10/dist-packages (from huggingface-hub<1.0.0,>=0.11.0->datasets) (4.5.0)\n",
            "Requirement already satisfied: urllib3<1.27,>=1.21.1 in /usr/local/lib/python3.10/dist-packages (from requests>=2.19.0->datasets) (1.26.15)\n",
            "Requirement already satisfied: certifi>=2017.4.17 in /usr/local/lib/python3.10/dist-packages (from requests>=2.19.0->datasets) (2022.12.7)\n",
            "Requirement already satisfied: idna<4,>=2.5 in /usr/local/lib/python3.10/dist-packages (from requests>=2.19.0->datasets) (3.4)\n",
            "Requirement already satisfied: python-dateutil>=2.8.1 in /usr/local/lib/python3.10/dist-packages (from pandas->datasets) (2.8.2)\n",
            "Requirement already satisfied: pytz>=2020.1 in /usr/local/lib/python3.10/dist-packages (from pandas->datasets) (2022.7.1)\n",
            "Requirement already satisfied: six>=1.5 in /usr/local/lib/python3.10/dist-packages (from python-dateutil>=2.8.1->pandas->datasets) (1.16.0)\n"
          ]
        }
      ]
    }
  ]
}